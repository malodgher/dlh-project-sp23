{
 "cells": [
  {
   "cell_type": "markdown",
   "id": "482f6f3a",
   "metadata": {},
   "source": [
    "### Libraries Installation\n",
    "First of all We will install the required Python libraries that will be used through out the program."
   ]
  },
  {
   "cell_type": "code",
   "execution_count": null,
   "id": "faad3a31",
   "metadata": {},
   "outputs": [],
   "source": [
    "pip install pyhealth"
   ]
  },
  {
   "cell_type": "code",
   "execution_count": null,
   "id": "ab4477b1",
   "metadata": {},
   "outputs": [],
   "source": [
    "pip install pyreadr"
   ]
  },
  {
   "cell_type": "code",
   "execution_count": null,
   "id": "a216312b",
   "metadata": {},
   "outputs": [],
   "source": [
    "pip install pandas"
   ]
  },
  {
   "cell_type": "code",
   "execution_count": null,
   "id": "54c7efe8",
   "metadata": {},
   "outputs": [],
   "source": [
    "pip install sklearn"
   ]
  },
  {
   "cell_type": "code",
   "execution_count": null,
   "id": "d887f8d6",
   "metadata": {},
   "outputs": [],
   "source": [
    "pip install tensorflow\n"
   ]
  },
  {
   "cell_type": "markdown",
   "id": "5913d4da",
   "metadata": {},
   "source": [
    "### Pyhealth test/analysis\n",
    "\n",
    "Since pyhealth provides basic MIMIC-3 datasets for healthcare projects, wanted to check if it contains required data for heart failure detection.\n",
    "\n",
    "Conclusion: Pyhealth doesn't include necessary data attributes required for heart failure detection model."
   ]
  },
  {
   "cell_type": "code",
   "execution_count": null,
   "id": "fd4fba55",
   "metadata": {},
   "outputs": [],
   "source": [
    "from pyhealth.datasets import MIMIC3Dataset\n",
    "import pyreadr\n",
    "\n",
    "# create MIMIC3Dataset object\n",
    "mimic3base = MIMIC3Dataset(\n",
    "    root=\"https://storage.googleapis.com/pyhealth/Synthetic_MIMIC-III/\",\n",
    "    tables=[\"DIAGNOSES_ICD\", \"PROCEDURES_ICD\", \"PRESCRIPTIONS\"],\n",
    "    # map all NDC codes to ATC 3-rd level codes in these tables\n",
    "    code_mapping={\"NDC\": (\"ATC\", {\"target_kwargs\": {\"level\": 3}})},\n",
    ")"
   ]
  },
  {
   "cell_type": "code",
   "execution_count": null,
   "id": "ab82d5f5",
   "metadata": {},
   "outputs": [],
   "source": [
    "mimic3base.stat()"
   ]
  },
  {
   "cell_type": "markdown",
   "id": "d35be6a7",
   "metadata": {},
   "source": [
    "## Data Preprocessing\n",
    "\n",
    "Data sets are extracted from PhysioNet website: (you need to have \"CITI Data or Specimens Only Research\" training completed & approved before you can access the data)\n",
    "https://physionet.org/content/mimiciii/1.4/\n",
    "\n",
    "Once you have access go to Files section on above link where you can download required data files.\n",
    "\n",
    "1. Admissions: gives information regarding a patient’s admission to the hospital\n",
    "2. Patients: Provides information on each patient\n",
    "3. Diagnoses ICD: Contains ICD diagnoses for patients\n",
    "4. ICU Stays: defines a single ICU stay\n",
    "5. Lab events: Contains all laboratory measurements for a given patient\n",
    "\n",
    "More information on dataset, fields etc can be found at: https://mimic.mit.edu/docs/iii/tables/"
   ]
  },
  {
   "cell_type": "code",
   "execution_count": 4,
   "id": "8a386687",
   "metadata": {},
   "outputs": [],
   "source": [
    "\n",
    "import pandas as pd\n",
    "import numpy as np\n",
    "import tensorflow as tf\n"
   ]
  },
  {
   "cell_type": "markdown",
   "id": "fc0e3e3b",
   "metadata": {},
   "source": [
    "Now, we will start reading data files one by one using read_csv() function into dataframe and look at the statistics around number of records, mean, min, max etc.\n",
    "\n",
    "#### 1. Diagnoses ICD data file\n",
    "\n",
    "## Note: Remember to download the data files from following google drive or as instructed above and place them in desired location. Once placed, please update the path in data_dir variable below.\n",
    "\n",
    "https://drive.google.com/drive/folders/1Lsjg3Kl93L0pn5EYYsilsuX6Yl4d4Zy4?usp=sharing"
   ]
  },
  {
   "cell_type": "code",
   "execution_count": 5,
   "id": "06e191cd",
   "metadata": {},
   "outputs": [],
   "source": [
    "data_dir = \"/Users/sagardalwadi/Desktop/College/CS598-DLH/project/DLH_Project_CodeRepo_By_sagardd2/Data/\"\n",
    "\n",
    "# load the DIAGNOSES_ICD table as a Pandas dataframe\n",
    "diagnoses_icd_df = pd.read_csv(data_dir + \"DIAGNOSES_ICD.csv\")"
   ]
  },
  {
   "cell_type": "code",
   "execution_count": 6,
   "id": "78709130",
   "metadata": {},
   "outputs": [
    {
     "data": {
      "text/html": [
       "<div>\n",
       "<style scoped>\n",
       "    .dataframe tbody tr th:only-of-type {\n",
       "        vertical-align: middle;\n",
       "    }\n",
       "\n",
       "    .dataframe tbody tr th {\n",
       "        vertical-align: top;\n",
       "    }\n",
       "\n",
       "    .dataframe thead th {\n",
       "        text-align: right;\n",
       "    }\n",
       "</style>\n",
       "<table border=\"1\" class=\"dataframe\">\n",
       "  <thead>\n",
       "    <tr style=\"text-align: right;\">\n",
       "      <th></th>\n",
       "      <th>ROW_ID</th>\n",
       "      <th>SUBJECT_ID</th>\n",
       "      <th>HADM_ID</th>\n",
       "      <th>SEQ_NUM</th>\n",
       "      <th>ICD9_CODE</th>\n",
       "    </tr>\n",
       "  </thead>\n",
       "  <tbody>\n",
       "    <tr>\n",
       "      <th>0</th>\n",
       "      <td>1297</td>\n",
       "      <td>109</td>\n",
       "      <td>172335</td>\n",
       "      <td>1.0</td>\n",
       "      <td>40301</td>\n",
       "    </tr>\n",
       "    <tr>\n",
       "      <th>1</th>\n",
       "      <td>1298</td>\n",
       "      <td>109</td>\n",
       "      <td>172335</td>\n",
       "      <td>2.0</td>\n",
       "      <td>486</td>\n",
       "    </tr>\n",
       "    <tr>\n",
       "      <th>2</th>\n",
       "      <td>1299</td>\n",
       "      <td>109</td>\n",
       "      <td>172335</td>\n",
       "      <td>3.0</td>\n",
       "      <td>58281</td>\n",
       "    </tr>\n",
       "    <tr>\n",
       "      <th>3</th>\n",
       "      <td>1300</td>\n",
       "      <td>109</td>\n",
       "      <td>172335</td>\n",
       "      <td>4.0</td>\n",
       "      <td>5855</td>\n",
       "    </tr>\n",
       "    <tr>\n",
       "      <th>4</th>\n",
       "      <td>1301</td>\n",
       "      <td>109</td>\n",
       "      <td>172335</td>\n",
       "      <td>5.0</td>\n",
       "      <td>4254</td>\n",
       "    </tr>\n",
       "  </tbody>\n",
       "</table>\n",
       "</div>"
      ],
      "text/plain": [
       "   ROW_ID  SUBJECT_ID  HADM_ID  SEQ_NUM ICD9_CODE\n",
       "0    1297         109   172335      1.0     40301\n",
       "1    1298         109   172335      2.0       486\n",
       "2    1299         109   172335      3.0     58281\n",
       "3    1300         109   172335      4.0      5855\n",
       "4    1301         109   172335      5.0      4254"
      ]
     },
     "execution_count": 6,
     "metadata": {},
     "output_type": "execute_result"
    }
   ],
   "source": [
    "diagnoses_icd_df.head()"
   ]
  },
  {
   "cell_type": "code",
   "execution_count": 7,
   "id": "59e5781d",
   "metadata": {},
   "outputs": [
    {
     "name": "stdout",
     "output_type": "stream",
     "text": [
      "              ROW_ID     SUBJECT_ID        HADM_ID        SEQ_NUM\n",
      "count  651047.000000  651047.000000  651047.000000  651000.000000\n",
      "mean   325524.000000   38971.159758  150017.744819       7.913836\n",
      "std    187941.224689   29372.198841   28878.068648       6.072633\n",
      "min         1.000000       2.000000  100001.000000       1.000000\n",
      "25%    162762.500000   14562.500000  125028.000000       3.000000\n",
      "50%    325524.000000   28671.000000  150140.000000       6.000000\n",
      "75%    488285.500000   63715.000000  174978.000000      11.000000\n",
      "max    651047.000000   99999.000000  199999.000000      39.000000\n"
     ]
    }
   ],
   "source": [
    "# get the statistics of the dataframe\n",
    "diagnoses_icd_stats = diagnoses_icd_df.describe()\n",
    "\n",
    "# print the statistics\n",
    "print(diagnoses_icd_stats)"
   ]
  },
  {
   "cell_type": "markdown",
   "id": "8d2d4c5a",
   "metadata": {},
   "source": [
    "#### 2. Procedures data file\n",
    "#### 3. Prescriptions data file"
   ]
  },
  {
   "cell_type": "code",
   "execution_count": 8,
   "id": "78df6235",
   "metadata": {},
   "outputs": [
    {
     "name": "stderr",
     "output_type": "stream",
     "text": [
      "/var/folders/rn/7x6fp0x16ql0c61l29_b61kr0000gn/T/ipykernel_71938/1573089679.py:5: DtypeWarning: Columns (11) have mixed types. Specify dtype option on import or set low_memory=False.\n",
      "  prescriptions_df = pd.read_csv(data_dir + \"PRESCRIPTIONS.csv\")\n"
     ]
    }
   ],
   "source": [
    "# load the PROCEDURES_ICD table as a Pandas dataframe\n",
    "procedures_icd_df = pd.read_csv(data_dir + \"PROCEDURES_ICD.csv\")\n",
    "\n",
    "# load the PRESCRIPTIONS table as a Pandas dataframe\n",
    "prescriptions_df = pd.read_csv(data_dir + \"PRESCRIPTIONS.csv\")"
   ]
  },
  {
   "cell_type": "code",
   "execution_count": 9,
   "id": "2289931a",
   "metadata": {},
   "outputs": [
    {
     "name": "stdout",
     "output_type": "stream",
     "text": [
      "              ROW_ID     SUBJECT_ID        HADM_ID        SEQ_NUM  \\\n",
      "count  240095.000000  240095.000000  240095.000000  240095.000000   \n",
      "mean   120048.000000   32851.481472  150082.948591       4.388434   \n",
      "std     69309.600778   27771.642798   28918.380367       3.772549   \n",
      "min         1.000000       2.000000  100003.000000       1.000000   \n",
      "25%     60024.500000   11615.000000  125186.000000       2.000000   \n",
      "50%    120048.000000   23450.000000  149988.000000       3.000000   \n",
      "75%    180071.500000   51951.000000  175340.000000       6.000000   \n",
      "max    240095.000000   99999.000000  199999.000000      40.000000   \n",
      "\n",
      "           ICD9_CODE  \n",
      "count  240095.000000  \n",
      "mean     5689.421350  \n",
      "std      3307.832868  \n",
      "min        10.000000  \n",
      "25%      3614.000000  \n",
      "50%      4319.000000  \n",
      "75%      9390.000000  \n",
      "max      9999.000000  \n"
     ]
    }
   ],
   "source": [
    "# get the statistics of the dataframe\n",
    "procedures_icd_stats = procedures_icd_df.describe()\n",
    "\n",
    "# print the statistics\n",
    "print(procedures_icd_stats)"
   ]
  },
  {
   "cell_type": "code",
   "execution_count": 10,
   "id": "47f1a1d1",
   "metadata": {},
   "outputs": [
    {
     "name": "stdout",
     "output_type": "stream",
     "text": [
      "             ROW_ID    SUBJECT_ID       HADM_ID    ICUSTAY_ID           NDC\n",
      "count  4.156450e+06  4.156450e+06  4.156450e+06  2.708742e+06  4.151987e+06\n",
      "mean   2.078226e+06  3.877274e+04  1.501000e+05  2.500046e+05  1.242073e+10\n",
      "std    1.199864e+06  2.925289e+04  2.891754e+04  2.877529e+04  2.304565e+10\n",
      "min    1.000000e+00  2.000000e+00  1.000010e+05  2.000010e+05  0.000000e+00\n",
      "25%    1.039113e+06  1.457900e+04  1.251400e+05  2.250820e+05  7.101574e+07\n",
      "50%    2.078226e+06  2.857600e+04  1.501580e+05  2.501880e+05  3.380550e+08\n",
      "75%    3.117338e+06  6.317000e+04  1.752980e+05  2.748130e+05  9.045262e+08\n",
      "max    4.156450e+06  9.999900e+04  1.999990e+05  2.999990e+05  8.770109e+10\n"
     ]
    }
   ],
   "source": [
    "# get the statistics of the dataframe\n",
    "prescriptions_stats = prescriptions_df.describe()\n",
    "\n",
    "# print the statistics\n",
    "print(prescriptions_stats)"
   ]
  },
  {
   "cell_type": "markdown",
   "id": "f850c794",
   "metadata": {},
   "source": [
    "#### 4. Admissions data file"
   ]
  },
  {
   "cell_type": "code",
   "execution_count": 11,
   "id": "c360f1f2",
   "metadata": {},
   "outputs": [],
   "source": [
    "# load the ADMISSIONS table as a Pandas dataframe\n",
    "admissions_df = pd.read_csv(data_dir + \"ADMISSIONS.csv\")"
   ]
  },
  {
   "cell_type": "code",
   "execution_count": 12,
   "id": "f63471f2",
   "metadata": {},
   "outputs": [
    {
     "name": "stdout",
     "output_type": "stream",
     "text": [
      "             ROW_ID    SUBJECT_ID        HADM_ID  HOSPITAL_EXPIRE_FLAG  \\\n",
      "count  58976.000000  58976.000000   58976.000000          58976.000000   \n",
      "mean   29488.500000  33755.583288  149970.809584              0.099261   \n",
      "std    17025.049075  28092.726225   28883.095213              0.299014   \n",
      "min        1.000000      2.000000  100001.000000              0.000000   \n",
      "25%    14744.750000  11993.750000  124952.750000              0.000000   \n",
      "50%    29488.500000  24133.500000  149989.500000              0.000000   \n",
      "75%    44232.250000  53851.500000  174966.500000              0.000000   \n",
      "max    58976.000000  99999.000000  199999.000000              1.000000   \n",
      "\n",
      "       HAS_CHARTEVENTS_DATA  \n",
      "count          58976.000000  \n",
      "mean               0.973006  \n",
      "std                0.162067  \n",
      "min                0.000000  \n",
      "25%                1.000000  \n",
      "50%                1.000000  \n",
      "75%                1.000000  \n",
      "max                1.000000  \n"
     ]
    }
   ],
   "source": [
    "# get the statistics of the dataframe\n",
    "admissions_stats = admissions_df.describe()\n",
    "\n",
    "# print the statistics\n",
    "print(admissions_stats)"
   ]
  },
  {
   "cell_type": "code",
   "execution_count": 13,
   "id": "43276d67",
   "metadata": {},
   "outputs": [
    {
     "data": {
      "text/html": [
       "<div>\n",
       "<style scoped>\n",
       "    .dataframe tbody tr th:only-of-type {\n",
       "        vertical-align: middle;\n",
       "    }\n",
       "\n",
       "    .dataframe tbody tr th {\n",
       "        vertical-align: top;\n",
       "    }\n",
       "\n",
       "    .dataframe thead th {\n",
       "        text-align: right;\n",
       "    }\n",
       "</style>\n",
       "<table border=\"1\" class=\"dataframe\">\n",
       "  <thead>\n",
       "    <tr style=\"text-align: right;\">\n",
       "      <th></th>\n",
       "      <th>ROW_ID</th>\n",
       "      <th>SUBJECT_ID</th>\n",
       "      <th>HADM_ID</th>\n",
       "      <th>ADMITTIME</th>\n",
       "      <th>DISCHTIME</th>\n",
       "      <th>DEATHTIME</th>\n",
       "      <th>ADMISSION_TYPE</th>\n",
       "      <th>ADMISSION_LOCATION</th>\n",
       "      <th>DISCHARGE_LOCATION</th>\n",
       "      <th>INSURANCE</th>\n",
       "      <th>LANGUAGE</th>\n",
       "      <th>RELIGION</th>\n",
       "      <th>MARITAL_STATUS</th>\n",
       "      <th>ETHNICITY</th>\n",
       "      <th>EDREGTIME</th>\n",
       "      <th>EDOUTTIME</th>\n",
       "      <th>DIAGNOSIS</th>\n",
       "      <th>HOSPITAL_EXPIRE_FLAG</th>\n",
       "      <th>HAS_CHARTEVENTS_DATA</th>\n",
       "    </tr>\n",
       "  </thead>\n",
       "  <tbody>\n",
       "    <tr>\n",
       "      <th>0</th>\n",
       "      <td>21</td>\n",
       "      <td>22</td>\n",
       "      <td>165315</td>\n",
       "      <td>2196-04-09 12:26:00</td>\n",
       "      <td>2196-04-10 15:54:00</td>\n",
       "      <td>NaN</td>\n",
       "      <td>EMERGENCY</td>\n",
       "      <td>EMERGENCY ROOM ADMIT</td>\n",
       "      <td>DISC-TRAN CANCER/CHLDRN H</td>\n",
       "      <td>Private</td>\n",
       "      <td>NaN</td>\n",
       "      <td>UNOBTAINABLE</td>\n",
       "      <td>MARRIED</td>\n",
       "      <td>WHITE</td>\n",
       "      <td>2196-04-09 10:06:00</td>\n",
       "      <td>2196-04-09 13:24:00</td>\n",
       "      <td>BENZODIAZEPINE OVERDOSE</td>\n",
       "      <td>0</td>\n",
       "      <td>1</td>\n",
       "    </tr>\n",
       "    <tr>\n",
       "      <th>1</th>\n",
       "      <td>22</td>\n",
       "      <td>23</td>\n",
       "      <td>152223</td>\n",
       "      <td>2153-09-03 07:15:00</td>\n",
       "      <td>2153-09-08 19:10:00</td>\n",
       "      <td>NaN</td>\n",
       "      <td>ELECTIVE</td>\n",
       "      <td>PHYS REFERRAL/NORMAL DELI</td>\n",
       "      <td>HOME HEALTH CARE</td>\n",
       "      <td>Medicare</td>\n",
       "      <td>NaN</td>\n",
       "      <td>CATHOLIC</td>\n",
       "      <td>MARRIED</td>\n",
       "      <td>WHITE</td>\n",
       "      <td>NaN</td>\n",
       "      <td>NaN</td>\n",
       "      <td>CORONARY ARTERY DISEASE\\CORONARY ARTERY BYPASS...</td>\n",
       "      <td>0</td>\n",
       "      <td>1</td>\n",
       "    </tr>\n",
       "    <tr>\n",
       "      <th>2</th>\n",
       "      <td>23</td>\n",
       "      <td>23</td>\n",
       "      <td>124321</td>\n",
       "      <td>2157-10-18 19:34:00</td>\n",
       "      <td>2157-10-25 14:00:00</td>\n",
       "      <td>NaN</td>\n",
       "      <td>EMERGENCY</td>\n",
       "      <td>TRANSFER FROM HOSP/EXTRAM</td>\n",
       "      <td>HOME HEALTH CARE</td>\n",
       "      <td>Medicare</td>\n",
       "      <td>ENGL</td>\n",
       "      <td>CATHOLIC</td>\n",
       "      <td>MARRIED</td>\n",
       "      <td>WHITE</td>\n",
       "      <td>NaN</td>\n",
       "      <td>NaN</td>\n",
       "      <td>BRAIN MASS</td>\n",
       "      <td>0</td>\n",
       "      <td>1</td>\n",
       "    </tr>\n",
       "    <tr>\n",
       "      <th>3</th>\n",
       "      <td>24</td>\n",
       "      <td>24</td>\n",
       "      <td>161859</td>\n",
       "      <td>2139-06-06 16:14:00</td>\n",
       "      <td>2139-06-09 12:48:00</td>\n",
       "      <td>NaN</td>\n",
       "      <td>EMERGENCY</td>\n",
       "      <td>TRANSFER FROM HOSP/EXTRAM</td>\n",
       "      <td>HOME</td>\n",
       "      <td>Private</td>\n",
       "      <td>NaN</td>\n",
       "      <td>PROTESTANT QUAKER</td>\n",
       "      <td>SINGLE</td>\n",
       "      <td>WHITE</td>\n",
       "      <td>NaN</td>\n",
       "      <td>NaN</td>\n",
       "      <td>INTERIOR MYOCARDIAL INFARCTION</td>\n",
       "      <td>0</td>\n",
       "      <td>1</td>\n",
       "    </tr>\n",
       "    <tr>\n",
       "      <th>4</th>\n",
       "      <td>25</td>\n",
       "      <td>25</td>\n",
       "      <td>129635</td>\n",
       "      <td>2160-11-02 02:06:00</td>\n",
       "      <td>2160-11-05 14:55:00</td>\n",
       "      <td>NaN</td>\n",
       "      <td>EMERGENCY</td>\n",
       "      <td>EMERGENCY ROOM ADMIT</td>\n",
       "      <td>HOME</td>\n",
       "      <td>Private</td>\n",
       "      <td>NaN</td>\n",
       "      <td>UNOBTAINABLE</td>\n",
       "      <td>MARRIED</td>\n",
       "      <td>WHITE</td>\n",
       "      <td>2160-11-02 01:01:00</td>\n",
       "      <td>2160-11-02 04:27:00</td>\n",
       "      <td>ACUTE CORONARY SYNDROME</td>\n",
       "      <td>0</td>\n",
       "      <td>1</td>\n",
       "    </tr>\n",
       "  </tbody>\n",
       "</table>\n",
       "</div>"
      ],
      "text/plain": [
       "   ROW_ID  SUBJECT_ID  HADM_ID            ADMITTIME            DISCHTIME  \\\n",
       "0      21          22   165315  2196-04-09 12:26:00  2196-04-10 15:54:00   \n",
       "1      22          23   152223  2153-09-03 07:15:00  2153-09-08 19:10:00   \n",
       "2      23          23   124321  2157-10-18 19:34:00  2157-10-25 14:00:00   \n",
       "3      24          24   161859  2139-06-06 16:14:00  2139-06-09 12:48:00   \n",
       "4      25          25   129635  2160-11-02 02:06:00  2160-11-05 14:55:00   \n",
       "\n",
       "  DEATHTIME ADMISSION_TYPE         ADMISSION_LOCATION  \\\n",
       "0       NaN      EMERGENCY       EMERGENCY ROOM ADMIT   \n",
       "1       NaN       ELECTIVE  PHYS REFERRAL/NORMAL DELI   \n",
       "2       NaN      EMERGENCY  TRANSFER FROM HOSP/EXTRAM   \n",
       "3       NaN      EMERGENCY  TRANSFER FROM HOSP/EXTRAM   \n",
       "4       NaN      EMERGENCY       EMERGENCY ROOM ADMIT   \n",
       "\n",
       "          DISCHARGE_LOCATION INSURANCE LANGUAGE           RELIGION  \\\n",
       "0  DISC-TRAN CANCER/CHLDRN H   Private      NaN       UNOBTAINABLE   \n",
       "1           HOME HEALTH CARE  Medicare      NaN           CATHOLIC   \n",
       "2           HOME HEALTH CARE  Medicare     ENGL           CATHOLIC   \n",
       "3                       HOME   Private      NaN  PROTESTANT QUAKER   \n",
       "4                       HOME   Private      NaN       UNOBTAINABLE   \n",
       "\n",
       "  MARITAL_STATUS ETHNICITY            EDREGTIME            EDOUTTIME  \\\n",
       "0        MARRIED     WHITE  2196-04-09 10:06:00  2196-04-09 13:24:00   \n",
       "1        MARRIED     WHITE                  NaN                  NaN   \n",
       "2        MARRIED     WHITE                  NaN                  NaN   \n",
       "3         SINGLE     WHITE                  NaN                  NaN   \n",
       "4        MARRIED     WHITE  2160-11-02 01:01:00  2160-11-02 04:27:00   \n",
       "\n",
       "                                           DIAGNOSIS  HOSPITAL_EXPIRE_FLAG  \\\n",
       "0                            BENZODIAZEPINE OVERDOSE                     0   \n",
       "1  CORONARY ARTERY DISEASE\\CORONARY ARTERY BYPASS...                     0   \n",
       "2                                         BRAIN MASS                     0   \n",
       "3                     INTERIOR MYOCARDIAL INFARCTION                     0   \n",
       "4                            ACUTE CORONARY SYNDROME                     0   \n",
       "\n",
       "   HAS_CHARTEVENTS_DATA  \n",
       "0                     1  \n",
       "1                     1  \n",
       "2                     1  \n",
       "3                     1  \n",
       "4                     1  "
      ]
     },
     "execution_count": 13,
     "metadata": {},
     "output_type": "execute_result"
    }
   ],
   "source": [
    "admissions_df.head()"
   ]
  },
  {
   "cell_type": "markdown",
   "id": "6b0172df",
   "metadata": {},
   "source": [
    "#### 5. ICU Stays data file"
   ]
  },
  {
   "cell_type": "code",
   "execution_count": 14,
   "id": "5c5da1a1",
   "metadata": {},
   "outputs": [
    {
     "name": "stdout",
     "output_type": "stream",
     "text": [
      "             ROW_ID    SUBJECT_ID        HADM_ID     ICUSTAY_ID  FIRST_WARDID  \\\n",
      "count  61532.000000  61532.000000   61532.000000   61532.000000  61532.000000   \n",
      "mean   30766.500000  33888.605912  149954.470649  249962.710248     33.085663   \n",
      "std    17762.902719  28127.690913   28898.895904   28890.574867     19.102204   \n",
      "min        1.000000      2.000000  100001.000000  200001.000000      7.000000   \n",
      "25%    15383.750000  12047.500000  124933.750000  224935.500000     14.000000   \n",
      "50%    30766.500000  24280.500000  149911.500000  249940.000000     33.000000   \n",
      "75%    46149.250000  54191.500000  174997.250000  274972.500000     52.000000   \n",
      "max    61532.000000  99999.000000  199999.000000  299999.000000     57.000000   \n",
      "\n",
      "        LAST_WARDID           LOS  \n",
      "count  61532.000000  61522.000000  \n",
      "mean      32.978206      4.917972  \n",
      "std       19.028609      9.638784  \n",
      "min        7.000000      0.000100  \n",
      "25%       14.000000      1.108025  \n",
      "50%       33.000000      2.092250  \n",
      "75%       52.000000      4.483175  \n",
      "max       57.000000    173.072500  \n"
     ]
    }
   ],
   "source": [
    "\n",
    "# load the ICUSTAYS table as a Pandas dataframe\n",
    "icustays_df = pd.read_csv(data_dir + \"ICUSTAYS.csv\")\n",
    "\n",
    "# get the statistics of the dataframe\n",
    "icustays_stats = icustays_df.describe()\n",
    "\n",
    "# print the statistics\n",
    "print(icustays_stats)"
   ]
  },
  {
   "cell_type": "markdown",
   "id": "b148bf0f",
   "metadata": {},
   "source": [
    "#### 6. Patients data file"
   ]
  },
  {
   "cell_type": "code",
   "execution_count": 15,
   "id": "d3667f38",
   "metadata": {},
   "outputs": [
    {
     "name": "stdout",
     "output_type": "stream",
     "text": [
      "             ROW_ID    SUBJECT_ID   EXPIRE_FLAG\n",
      "count  46520.000000  46520.000000  46520.000000\n",
      "mean   23260.500000  34425.772872      0.338758\n",
      "std    13429.311598  28330.400343      0.473292\n",
      "min        1.000000      2.000000      0.000000\n",
      "25%    11630.750000  12286.750000      0.000000\n",
      "50%    23260.500000  24650.500000      0.000000\n",
      "75%    34890.250000  55477.500000      1.000000\n",
      "max    46520.000000  99999.000000      1.000000\n"
     ]
    }
   ],
   "source": [
    "# load the PATIENTS table as a Pandas dataframe\n",
    "patients_df = pd.read_csv(data_dir + \"PATIENTS.csv\")\n",
    "\n",
    "# get the statistics of the dataframe\n",
    "patients_stats = patients_df.describe()\n",
    "\n",
    "# print the statistics\n",
    "print(patients_stats)"
   ]
  },
  {
   "cell_type": "markdown",
   "id": "d2ce5b8c",
   "metadata": {},
   "source": [
    "#### 7. Lab events data file"
   ]
  },
  {
   "cell_type": "code",
   "execution_count": 16,
   "id": "1cf57def",
   "metadata": {},
   "outputs": [
    {
     "name": "stdout",
     "output_type": "stream",
     "text": [
      "             ROW_ID    SUBJECT_ID       HADM_ID        ITEMID      VALUENUM\n",
      "count  2.785406e+07  2.785406e+07  2.224503e+07  2.785406e+07  2.493284e+07\n",
      "mean   1.395852e+07  3.146391e+04  1.499675e+05  5.106214e+04  7.853220e+01\n",
      "std    8.057287e+06  2.714177e+04  2.886231e+04  2.092624e+02  5.512982e+03\n",
      "min    1.000000e+00  2.000000e+00  1.000010e+05  5.080000e+04 -4.140000e+02\n",
      "25%    6.980364e+06  1.120500e+04  1.251080e+05  5.088200e+04  4.400000e+00\n",
      "50%    1.396099e+07  2.258500e+04  1.498490e+05  5.098300e+04  1.820000e+01\n",
      "75%    2.093829e+07  4.790600e+04  1.750200e+05  5.125000e+04  6.000000e+01\n",
      "max    2.790765e+07  9.999900e+04  1.999990e+05  5.155500e+04  1.427200e+07\n"
     ]
    }
   ],
   "source": [
    "# load the LABEVENTS table as a Pandas dataframe\n",
    "lab_events_df = pd.read_csv(data_dir + \"LABEVENTS.csv\")\n",
    "\n",
    "# get the statistics of the dataframe\n",
    "lab_events_stats = lab_events_df.describe()\n",
    "\n",
    "# print the statistics\n",
    "print(lab_events_stats)\n",
    "\n",
    "lab_events_df = lab_events_df.loc[:500000, :]"
   ]
  },
  {
   "cell_type": "code",
   "execution_count": 17,
   "id": "1dd53f16",
   "metadata": {},
   "outputs": [
    {
     "data": {
      "text/html": [
       "<div>\n",
       "<style scoped>\n",
       "    .dataframe tbody tr th:only-of-type {\n",
       "        vertical-align: middle;\n",
       "    }\n",
       "\n",
       "    .dataframe tbody tr th {\n",
       "        vertical-align: top;\n",
       "    }\n",
       "\n",
       "    .dataframe thead th {\n",
       "        text-align: right;\n",
       "    }\n",
       "</style>\n",
       "<table border=\"1\" class=\"dataframe\">\n",
       "  <thead>\n",
       "    <tr style=\"text-align: right;\">\n",
       "      <th></th>\n",
       "      <th>ROW_ID</th>\n",
       "      <th>SUBJECT_ID</th>\n",
       "      <th>HADM_ID</th>\n",
       "      <th>ITEMID</th>\n",
       "      <th>CHARTTIME</th>\n",
       "      <th>VALUE</th>\n",
       "      <th>VALUENUM</th>\n",
       "      <th>VALUEUOM</th>\n",
       "      <th>FLAG</th>\n",
       "    </tr>\n",
       "  </thead>\n",
       "  <tbody>\n",
       "    <tr>\n",
       "      <th>0</th>\n",
       "      <td>281</td>\n",
       "      <td>3</td>\n",
       "      <td>NaN</td>\n",
       "      <td>50820</td>\n",
       "      <td>2101-10-12 16:07:00</td>\n",
       "      <td>7.39</td>\n",
       "      <td>7.39</td>\n",
       "      <td>units</td>\n",
       "      <td>NaN</td>\n",
       "    </tr>\n",
       "    <tr>\n",
       "      <th>1</th>\n",
       "      <td>282</td>\n",
       "      <td>3</td>\n",
       "      <td>NaN</td>\n",
       "      <td>50800</td>\n",
       "      <td>2101-10-12 18:17:00</td>\n",
       "      <td>ART</td>\n",
       "      <td>NaN</td>\n",
       "      <td>NaN</td>\n",
       "      <td>NaN</td>\n",
       "    </tr>\n",
       "    <tr>\n",
       "      <th>2</th>\n",
       "      <td>283</td>\n",
       "      <td>3</td>\n",
       "      <td>NaN</td>\n",
       "      <td>50802</td>\n",
       "      <td>2101-10-12 18:17:00</td>\n",
       "      <td>-1</td>\n",
       "      <td>-1.00</td>\n",
       "      <td>mEq/L</td>\n",
       "      <td>NaN</td>\n",
       "    </tr>\n",
       "    <tr>\n",
       "      <th>3</th>\n",
       "      <td>284</td>\n",
       "      <td>3</td>\n",
       "      <td>NaN</td>\n",
       "      <td>50804</td>\n",
       "      <td>2101-10-12 18:17:00</td>\n",
       "      <td>22</td>\n",
       "      <td>22.00</td>\n",
       "      <td>mEq/L</td>\n",
       "      <td>NaN</td>\n",
       "    </tr>\n",
       "    <tr>\n",
       "      <th>4</th>\n",
       "      <td>285</td>\n",
       "      <td>3</td>\n",
       "      <td>NaN</td>\n",
       "      <td>50808</td>\n",
       "      <td>2101-10-12 18:17:00</td>\n",
       "      <td>0.93</td>\n",
       "      <td>0.93</td>\n",
       "      <td>mmol/L</td>\n",
       "      <td>abnormal</td>\n",
       "    </tr>\n",
       "  </tbody>\n",
       "</table>\n",
       "</div>"
      ],
      "text/plain": [
       "   ROW_ID  SUBJECT_ID  HADM_ID  ITEMID            CHARTTIME VALUE  VALUENUM  \\\n",
       "0     281           3      NaN   50820  2101-10-12 16:07:00  7.39      7.39   \n",
       "1     282           3      NaN   50800  2101-10-12 18:17:00   ART       NaN   \n",
       "2     283           3      NaN   50802  2101-10-12 18:17:00    -1     -1.00   \n",
       "3     284           3      NaN   50804  2101-10-12 18:17:00    22     22.00   \n",
       "4     285           3      NaN   50808  2101-10-12 18:17:00  0.93      0.93   \n",
       "\n",
       "  VALUEUOM      FLAG  \n",
       "0    units       NaN  \n",
       "1      NaN       NaN  \n",
       "2    mEq/L       NaN  \n",
       "3    mEq/L       NaN  \n",
       "4   mmol/L  abnormal  "
      ]
     },
     "execution_count": 17,
     "metadata": {},
     "output_type": "execute_result"
    }
   ],
   "source": [
    "lab_events_df.head()"
   ]
  },
  {
   "cell_type": "code",
   "execution_count": 18,
   "id": "a0e587c0",
   "metadata": {},
   "outputs": [],
   "source": [
    "lab_events_df = lab_events_df.dropna(axis=0)"
   ]
  },
  {
   "cell_type": "code",
   "execution_count": 19,
   "id": "712f0e66",
   "metadata": {},
   "outputs": [
    {
     "data": {
      "text/html": [
       "<div>\n",
       "<style scoped>\n",
       "    .dataframe tbody tr th:only-of-type {\n",
       "        vertical-align: middle;\n",
       "    }\n",
       "\n",
       "    .dataframe tbody tr th {\n",
       "        vertical-align: top;\n",
       "    }\n",
       "\n",
       "    .dataframe thead th {\n",
       "        text-align: right;\n",
       "    }\n",
       "</style>\n",
       "<table border=\"1\" class=\"dataframe\">\n",
       "  <thead>\n",
       "    <tr style=\"text-align: right;\">\n",
       "      <th></th>\n",
       "      <th>ROW_ID</th>\n",
       "      <th>SUBJECT_ID</th>\n",
       "      <th>HADM_ID</th>\n",
       "      <th>ITEMID</th>\n",
       "      <th>CHARTTIME</th>\n",
       "      <th>VALUE</th>\n",
       "      <th>VALUENUM</th>\n",
       "      <th>VALUEUOM</th>\n",
       "      <th>FLAG</th>\n",
       "    </tr>\n",
       "  </thead>\n",
       "  <tbody>\n",
       "    <tr>\n",
       "      <th>162</th>\n",
       "      <td>443</td>\n",
       "      <td>3</td>\n",
       "      <td>145834.0</td>\n",
       "      <td>50893</td>\n",
       "      <td>2101-10-20 16:40:00</td>\n",
       "      <td>8.2</td>\n",
       "      <td>8.2</td>\n",
       "      <td>mg/dL</td>\n",
       "      <td>abnormal</td>\n",
       "    </tr>\n",
       "    <tr>\n",
       "      <th>163</th>\n",
       "      <td>444</td>\n",
       "      <td>3</td>\n",
       "      <td>145834.0</td>\n",
       "      <td>50902</td>\n",
       "      <td>2101-10-20 16:40:00</td>\n",
       "      <td>99</td>\n",
       "      <td>99.0</td>\n",
       "      <td>mEq/L</td>\n",
       "      <td>abnormal</td>\n",
       "    </tr>\n",
       "    <tr>\n",
       "      <th>166</th>\n",
       "      <td>447</td>\n",
       "      <td>3</td>\n",
       "      <td>145834.0</td>\n",
       "      <td>50912</td>\n",
       "      <td>2101-10-20 16:40:00</td>\n",
       "      <td>3.2</td>\n",
       "      <td>3.2</td>\n",
       "      <td>mg/dL</td>\n",
       "      <td>abnormal</td>\n",
       "    </tr>\n",
       "    <tr>\n",
       "      <th>169</th>\n",
       "      <td>450</td>\n",
       "      <td>3</td>\n",
       "      <td>145834.0</td>\n",
       "      <td>50970</td>\n",
       "      <td>2101-10-20 16:40:00</td>\n",
       "      <td>4.8</td>\n",
       "      <td>4.8</td>\n",
       "      <td>mg/dL</td>\n",
       "      <td>abnormal</td>\n",
       "    </tr>\n",
       "    <tr>\n",
       "      <th>170</th>\n",
       "      <td>451</td>\n",
       "      <td>3</td>\n",
       "      <td>145834.0</td>\n",
       "      <td>50971</td>\n",
       "      <td>2101-10-20 16:40:00</td>\n",
       "      <td>5.4</td>\n",
       "      <td>5.4</td>\n",
       "      <td>mEq/L</td>\n",
       "      <td>abnormal</td>\n",
       "    </tr>\n",
       "  </tbody>\n",
       "</table>\n",
       "</div>"
      ],
      "text/plain": [
       "     ROW_ID  SUBJECT_ID   HADM_ID  ITEMID            CHARTTIME VALUE  \\\n",
       "162     443           3  145834.0   50893  2101-10-20 16:40:00   8.2   \n",
       "163     444           3  145834.0   50902  2101-10-20 16:40:00    99   \n",
       "166     447           3  145834.0   50912  2101-10-20 16:40:00   3.2   \n",
       "169     450           3  145834.0   50970  2101-10-20 16:40:00   4.8   \n",
       "170     451           3  145834.0   50971  2101-10-20 16:40:00   5.4   \n",
       "\n",
       "     VALUENUM VALUEUOM      FLAG  \n",
       "162       8.2    mg/dL  abnormal  \n",
       "163      99.0    mEq/L  abnormal  \n",
       "166       3.2    mg/dL  abnormal  \n",
       "169       4.8    mg/dL  abnormal  \n",
       "170       5.4    mEq/L  abnormal  "
      ]
     },
     "execution_count": 19,
     "metadata": {},
     "output_type": "execute_result"
    }
   ],
   "source": [
    "lab_events_df.head()"
   ]
  },
  {
   "cell_type": "markdown",
   "id": "3f84b179",
   "metadata": {},
   "source": [
    "Now, we will merge multiple pandas data frames into a single data frame using the merge function based on common columns. The common columns used for merging are \"SUBJECT_ID\" and \"HADM_ID\". The data frames being merged are admissions_df, patients_df, diagnoses_icd_df, icustays_df, and lab_events_df.\n",
    "\n",
    "The result of each merge operation is stored in a new data frame, which is then used as input for the next merge operation. The final merged data frame is named patient_admissions_icustays_lab."
   ]
  },
  {
   "cell_type": "code",
   "execution_count": 20,
   "id": "f82ddb06",
   "metadata": {},
   "outputs": [
    {
     "name": "stderr",
     "output_type": "stream",
     "text": [
      "/var/folders/rn/7x6fp0x16ql0c61l29_b61kr0000gn/T/ipykernel_71938/1066523934.py:4: FutureWarning: Passing 'suffixes' which cause duplicate columns {'ROW_ID_x'} in the result is deprecated and will raise a MergeError in a future version.\n",
      "  patient_admissions_icustays = pd.merge(patient_admissions_icd, icustays_df, on=[\"SUBJECT_ID\", \"HADM_ID\"])\n"
     ]
    },
    {
     "name": "stdout",
     "output_type": "stream",
     "text": [
      "   ROW_ID_x  SUBJECT_ID  HADM_ID            ADMITTIME            DISCHTIME  \\\n",
      "0        21          22   165315  2196-04-09 12:26:00  2196-04-10 15:54:00   \n",
      "1        21          22   165315  2196-04-09 12:26:00  2196-04-10 15:54:00   \n",
      "2        21          22   165315  2196-04-09 12:26:00  2196-04-10 15:54:00   \n",
      "3        21          22   165315  2196-04-09 12:26:00  2196-04-10 15:54:00   \n",
      "4        21          22   165315  2196-04-09 12:26:00  2196-04-10 15:54:00   \n",
      "\n",
      "  DEATHTIME ADMISSION_TYPE    ADMISSION_LOCATION         DISCHARGE_LOCATION  \\\n",
      "0       NaN      EMERGENCY  EMERGENCY ROOM ADMIT  DISC-TRAN CANCER/CHLDRN H   \n",
      "1       NaN      EMERGENCY  EMERGENCY ROOM ADMIT  DISC-TRAN CANCER/CHLDRN H   \n",
      "2       NaN      EMERGENCY  EMERGENCY ROOM ADMIT  DISC-TRAN CANCER/CHLDRN H   \n",
      "3       NaN      EMERGENCY  EMERGENCY ROOM ADMIT  DISC-TRAN CANCER/CHLDRN H   \n",
      "4       NaN      EMERGENCY  EMERGENCY ROOM ADMIT  DISC-TRAN CANCER/CHLDRN H   \n",
      "\n",
      "  INSURANCE  ...               INTIME              OUTTIME     LOS ROW_ID  \\\n",
      "0   Private  ...  2196-04-09 12:27:00  2196-04-10 15:54:00  1.1438  10626   \n",
      "1   Private  ...  2196-04-09 12:27:00  2196-04-10 15:54:00  1.1438  10644   \n",
      "2   Private  ...  2196-04-09 12:27:00  2196-04-10 15:54:00  1.1438  10658   \n",
      "3   Private  ...  2196-04-09 12:27:00  2196-04-10 15:54:00  1.1438  10661   \n",
      "4   Private  ...  2196-04-09 12:27:00  2196-04-10 15:54:00  1.1438  10626   \n",
      "\n",
      "  ITEMID            CHARTTIME VALUE  VALUENUM  VALUEUOM      FLAG  \n",
      "0  51221  2196-04-09 10:14:00  35.9      35.9         %  abnormal  \n",
      "1  51279  2196-04-09 10:14:00  4.00       4.0      m/uL  abnormal  \n",
      "2  50931  2196-04-10 08:01:00   108     108.0     mg/dL  abnormal  \n",
      "3  50971  2196-04-10 08:01:00   3.4       3.4     mEq/L  abnormal  \n",
      "4  51221  2196-04-09 10:14:00  35.9      35.9         %  abnormal  \n",
      "\n",
      "[5 rows x 46 columns]\n"
     ]
    }
   ],
   "source": [
    "# merge the tables together based on the common patient identifier\n",
    "patient_admissions = pd.merge(admissions_df, patients_df, on=\"SUBJECT_ID\")\n",
    "patient_admissions_icd = pd.merge(patient_admissions, diagnoses_icd_df, on=[\"SUBJECT_ID\", \"HADM_ID\"])\n",
    "patient_admissions_icustays = pd.merge(patient_admissions_icd, icustays_df, on=[\"SUBJECT_ID\", \"HADM_ID\"])\n",
    "patient_admissions_icustays_lab = pd.merge(patient_admissions_icustays, lab_events_df, on=[\"SUBJECT_ID\", \"HADM_ID\"])\n",
    "\n",
    "\n",
    "# print the resulting dataframe\n",
    "print(patient_admissions_icustays_lab.head())"
   ]
  },
  {
   "cell_type": "markdown",
   "id": "41539ab8",
   "metadata": {},
   "source": [
    "#### Data Analysis for ICD9_CODE"
   ]
  },
  {
   "cell_type": "code",
   "execution_count": 21,
   "id": "9a7cdd29",
   "metadata": {},
   "outputs": [
    {
     "name": "stdout",
     "output_type": "stream",
     "text": [
      "4280     49169\n",
      "4019     48221\n",
      "5849     40118\n",
      "42731    38719\n",
      "51881    36166\n",
      "         ...  \n",
      "07041        2\n",
      "72973        2\n",
      "30392        2\n",
      "7622         1\n",
      "7452         1\n",
      "Name: ICD9_CODE, Length: 1510, dtype: int64\n"
     ]
    }
   ],
   "source": [
    "# Display the distribution of ICD-9 codes in the 'ICD9_CODE' column\n",
    "print(patient_admissions_icustays_lab['ICD9_CODE'].value_counts())\n"
   ]
  },
  {
   "cell_type": "code",
   "execution_count": 22,
   "id": "2199a7d4",
   "metadata": {},
   "outputs": [
    {
     "name": "stdout",
     "output_type": "stream",
     "text": [
      "         ROW_ID_x  SUBJECT_ID  HADM_ID            ADMITTIME  \\\n",
      "1980           26          26   197661  2126-05-06 15:16:00   \n",
      "1981           26          26   197661  2126-05-06 15:16:00   \n",
      "1982           26          26   197661  2126-05-06 15:16:00   \n",
      "1983           26          26   197661  2126-05-06 15:16:00   \n",
      "1984           26          26   197661  2126-05-06 15:16:00   \n",
      "...           ...         ...      ...                  ...   \n",
      "1948003       964         781   163526  2117-09-21 23:21:00   \n",
      "1948004       964         781   163526  2117-09-21 23:21:00   \n",
      "1948005       964         781   163526  2117-09-21 23:21:00   \n",
      "1948006       964         781   163526  2117-09-21 23:21:00   \n",
      "1948007       964         781   163526  2117-09-21 23:21:00   \n",
      "\n",
      "                   DISCHTIME DEATHTIME ADMISSION_TYPE  \\\n",
      "1980     2126-05-13 15:00:00       NaN      EMERGENCY   \n",
      "1981     2126-05-13 15:00:00       NaN      EMERGENCY   \n",
      "1982     2126-05-13 15:00:00       NaN      EMERGENCY   \n",
      "1983     2126-05-13 15:00:00       NaN      EMERGENCY   \n",
      "1984     2126-05-13 15:00:00       NaN      EMERGENCY   \n",
      "...                      ...       ...            ...   \n",
      "1948003  2117-11-27 10:00:00       NaN      EMERGENCY   \n",
      "1948004  2117-11-27 10:00:00       NaN      EMERGENCY   \n",
      "1948005  2117-11-27 10:00:00       NaN      EMERGENCY   \n",
      "1948006  2117-11-27 10:00:00       NaN      EMERGENCY   \n",
      "1948007  2117-11-27 10:00:00       NaN      EMERGENCY   \n",
      "\n",
      "                ADMISSION_LOCATION        DISCHARGE_LOCATION INSURANCE  ...  \\\n",
      "1980     TRANSFER FROM HOSP/EXTRAM                      HOME  Medicare  ...   \n",
      "1981     TRANSFER FROM HOSP/EXTRAM                      HOME  Medicare  ...   \n",
      "1982     TRANSFER FROM HOSP/EXTRAM                      HOME  Medicare  ...   \n",
      "1983     TRANSFER FROM HOSP/EXTRAM                      HOME  Medicare  ...   \n",
      "1984     TRANSFER FROM HOSP/EXTRAM                      HOME  Medicare  ...   \n",
      "...                            ...                       ...       ...  ...   \n",
      "1948003       EMERGENCY ROOM ADMIT  REHAB/DISTINCT PART HOSP  Medicare  ...   \n",
      "1948004       EMERGENCY ROOM ADMIT  REHAB/DISTINCT PART HOSP  Medicare  ...   \n",
      "1948005       EMERGENCY ROOM ADMIT  REHAB/DISTINCT PART HOSP  Medicare  ...   \n",
      "1948006       EMERGENCY ROOM ADMIT  REHAB/DISTINCT PART HOSP  Medicare  ...   \n",
      "1948007       EMERGENCY ROOM ADMIT  REHAB/DISTINCT PART HOSP  Medicare  ...   \n",
      "\n",
      "                      INTIME              OUTTIME      LOS  ROW_ID ITEMID  \\\n",
      "1980     2126-05-07 09:52:30  2126-05-09 13:15:05   2.1407   11607  51248   \n",
      "1981     2126-05-07 09:52:30  2126-05-09 13:15:05   2.1407   11611  51274   \n",
      "1982     2126-05-07 09:52:30  2126-05-09 13:15:05   2.1407   11614  51279   \n",
      "1983     2126-05-07 09:52:30  2126-05-09 13:15:05   2.1407   11618  50893   \n",
      "1984     2126-05-07 09:52:30  2126-05-09 13:15:05   2.1407   11620  50912   \n",
      "...                      ...                  ...      ...     ...    ...   \n",
      "1948003  2117-09-21 23:21:39  2117-11-27 16:22:29  66.7089  509410  51222   \n",
      "1948004  2117-09-21 23:21:39  2117-11-27 16:22:29  66.7089  509413  51244   \n",
      "1948005  2117-09-21 23:21:39  2117-11-27 16:22:29  66.7089  509418  51251   \n",
      "1948006  2117-09-21 23:21:39  2117-11-27 16:22:29  66.7089  509421  51255   \n",
      "1948007  2117-09-21 23:21:39  2117-11-27 16:22:29  66.7089  509422  51256   \n",
      "\n",
      "                   CHARTTIME VALUE  VALUENUM  VALUEUOM      FLAG  \n",
      "1980     2126-05-09 04:30:00  32.2     32.20        pg  abnormal  \n",
      "1981     2126-05-09 04:30:00  13.9     13.90       sec  abnormal  \n",
      "1982     2126-05-09 04:30:00  3.82      3.82      m/uL  abnormal  \n",
      "1983     2126-05-10 04:00:00   8.3      8.30     mg/dL  abnormal  \n",
      "1984     2126-05-10 04:00:00   1.4      1.40     mg/dL  abnormal  \n",
      "...                      ...   ...       ...       ...       ...  \n",
      "1948003  2117-09-30 00:54:00   9.3      9.30      g/dL  abnormal  \n",
      "1948004  2117-09-30 00:54:00     2      2.00         %  abnormal  \n",
      "1948005  2117-09-30 00:54:00     6      6.00         %  abnormal  \n",
      "1948006  2117-09-30 00:54:00     3      3.00         %  abnormal  \n",
      "1948007  2117-09-30 00:54:00    82     82.00         %  abnormal  \n",
      "\n",
      "[49169 rows x 46 columns]\n"
     ]
    }
   ],
   "source": [
    "# Check for records with ICD code '428.0'\n",
    "icd_code = '4280'\n",
    "icd_code_mask = patient_admissions_icustays_lab['ICD9_CODE'] == icd_code\n",
    "icd_code_records = patient_admissions_icustays_lab[icd_code_mask]\n",
    "\n",
    "# Display the records with ICD code '428.0'\n",
    "print(icd_code_records)\n"
   ]
  },
  {
   "cell_type": "markdown",
   "id": "6c7e1508",
   "metadata": {},
   "source": [
    "#### Derive Heart Failure Target variable\n",
    "\n",
    "Given a large dataset of medical records, we need to identify patients who have heart failure using their ICD codes. We can define a list of ICD codes that are commonly associated with heart failure and use this list to flag patients in the dataset who have a heart failure diagnosis.\n",
    "\n"
   ]
  },
  {
   "cell_type": "code",
   "execution_count": 23,
   "id": "c8be5def",
   "metadata": {},
   "outputs": [],
   "source": [
    "# Define heart failure ICD codes\n",
    "hf_codes = ['4280', '4281', '4289','42820','42821','42822','42823','42830','42831','42832','42833']\n",
    "\n",
    "# Create new column for heart failure flag\n",
    "patient_admissions_icustays_lab['heart_failure'] = np.where(patient_admissions_icustays_lab['ICD9_CODE'].isin(hf_codes) , 1, 0)"
   ]
  },
  {
   "cell_type": "code",
   "execution_count": 24,
   "id": "5e71fe44",
   "metadata": {
    "scrolled": false
   },
   "outputs": [
    {
     "data": {
      "text/html": [
       "<div>\n",
       "<style scoped>\n",
       "    .dataframe tbody tr th:only-of-type {\n",
       "        vertical-align: middle;\n",
       "    }\n",
       "\n",
       "    .dataframe tbody tr th {\n",
       "        vertical-align: top;\n",
       "    }\n",
       "\n",
       "    .dataframe thead th {\n",
       "        text-align: right;\n",
       "    }\n",
       "</style>\n",
       "<table border=\"1\" class=\"dataframe\">\n",
       "  <thead>\n",
       "    <tr style=\"text-align: right;\">\n",
       "      <th></th>\n",
       "      <th>ROW_ID_x</th>\n",
       "      <th>SUBJECT_ID</th>\n",
       "      <th>HADM_ID</th>\n",
       "      <th>ADMITTIME</th>\n",
       "      <th>DISCHTIME</th>\n",
       "      <th>DEATHTIME</th>\n",
       "      <th>ADMISSION_TYPE</th>\n",
       "      <th>ADMISSION_LOCATION</th>\n",
       "      <th>DISCHARGE_LOCATION</th>\n",
       "      <th>INSURANCE</th>\n",
       "      <th>...</th>\n",
       "      <th>OUTTIME</th>\n",
       "      <th>LOS</th>\n",
       "      <th>ROW_ID</th>\n",
       "      <th>ITEMID</th>\n",
       "      <th>CHARTTIME</th>\n",
       "      <th>VALUE</th>\n",
       "      <th>VALUENUM</th>\n",
       "      <th>VALUEUOM</th>\n",
       "      <th>FLAG</th>\n",
       "      <th>heart_failure</th>\n",
       "    </tr>\n",
       "  </thead>\n",
       "  <tbody>\n",
       "    <tr>\n",
       "      <th>0</th>\n",
       "      <td>21</td>\n",
       "      <td>22</td>\n",
       "      <td>165315</td>\n",
       "      <td>2196-04-09 12:26:00</td>\n",
       "      <td>2196-04-10 15:54:00</td>\n",
       "      <td>NaN</td>\n",
       "      <td>EMERGENCY</td>\n",
       "      <td>EMERGENCY ROOM ADMIT</td>\n",
       "      <td>DISC-TRAN CANCER/CHLDRN H</td>\n",
       "      <td>Private</td>\n",
       "      <td>...</td>\n",
       "      <td>2196-04-10 15:54:00</td>\n",
       "      <td>1.1438</td>\n",
       "      <td>10626</td>\n",
       "      <td>51221</td>\n",
       "      <td>2196-04-09 10:14:00</td>\n",
       "      <td>35.9</td>\n",
       "      <td>35.9</td>\n",
       "      <td>%</td>\n",
       "      <td>abnormal</td>\n",
       "      <td>0</td>\n",
       "    </tr>\n",
       "    <tr>\n",
       "      <th>1</th>\n",
       "      <td>21</td>\n",
       "      <td>22</td>\n",
       "      <td>165315</td>\n",
       "      <td>2196-04-09 12:26:00</td>\n",
       "      <td>2196-04-10 15:54:00</td>\n",
       "      <td>NaN</td>\n",
       "      <td>EMERGENCY</td>\n",
       "      <td>EMERGENCY ROOM ADMIT</td>\n",
       "      <td>DISC-TRAN CANCER/CHLDRN H</td>\n",
       "      <td>Private</td>\n",
       "      <td>...</td>\n",
       "      <td>2196-04-10 15:54:00</td>\n",
       "      <td>1.1438</td>\n",
       "      <td>10644</td>\n",
       "      <td>51279</td>\n",
       "      <td>2196-04-09 10:14:00</td>\n",
       "      <td>4.00</td>\n",
       "      <td>4.0</td>\n",
       "      <td>m/uL</td>\n",
       "      <td>abnormal</td>\n",
       "      <td>0</td>\n",
       "    </tr>\n",
       "    <tr>\n",
       "      <th>2</th>\n",
       "      <td>21</td>\n",
       "      <td>22</td>\n",
       "      <td>165315</td>\n",
       "      <td>2196-04-09 12:26:00</td>\n",
       "      <td>2196-04-10 15:54:00</td>\n",
       "      <td>NaN</td>\n",
       "      <td>EMERGENCY</td>\n",
       "      <td>EMERGENCY ROOM ADMIT</td>\n",
       "      <td>DISC-TRAN CANCER/CHLDRN H</td>\n",
       "      <td>Private</td>\n",
       "      <td>...</td>\n",
       "      <td>2196-04-10 15:54:00</td>\n",
       "      <td>1.1438</td>\n",
       "      <td>10658</td>\n",
       "      <td>50931</td>\n",
       "      <td>2196-04-10 08:01:00</td>\n",
       "      <td>108</td>\n",
       "      <td>108.0</td>\n",
       "      <td>mg/dL</td>\n",
       "      <td>abnormal</td>\n",
       "      <td>0</td>\n",
       "    </tr>\n",
       "    <tr>\n",
       "      <th>3</th>\n",
       "      <td>21</td>\n",
       "      <td>22</td>\n",
       "      <td>165315</td>\n",
       "      <td>2196-04-09 12:26:00</td>\n",
       "      <td>2196-04-10 15:54:00</td>\n",
       "      <td>NaN</td>\n",
       "      <td>EMERGENCY</td>\n",
       "      <td>EMERGENCY ROOM ADMIT</td>\n",
       "      <td>DISC-TRAN CANCER/CHLDRN H</td>\n",
       "      <td>Private</td>\n",
       "      <td>...</td>\n",
       "      <td>2196-04-10 15:54:00</td>\n",
       "      <td>1.1438</td>\n",
       "      <td>10661</td>\n",
       "      <td>50971</td>\n",
       "      <td>2196-04-10 08:01:00</td>\n",
       "      <td>3.4</td>\n",
       "      <td>3.4</td>\n",
       "      <td>mEq/L</td>\n",
       "      <td>abnormal</td>\n",
       "      <td>0</td>\n",
       "    </tr>\n",
       "    <tr>\n",
       "      <th>4</th>\n",
       "      <td>21</td>\n",
       "      <td>22</td>\n",
       "      <td>165315</td>\n",
       "      <td>2196-04-09 12:26:00</td>\n",
       "      <td>2196-04-10 15:54:00</td>\n",
       "      <td>NaN</td>\n",
       "      <td>EMERGENCY</td>\n",
       "      <td>EMERGENCY ROOM ADMIT</td>\n",
       "      <td>DISC-TRAN CANCER/CHLDRN H</td>\n",
       "      <td>Private</td>\n",
       "      <td>...</td>\n",
       "      <td>2196-04-10 15:54:00</td>\n",
       "      <td>1.1438</td>\n",
       "      <td>10626</td>\n",
       "      <td>51221</td>\n",
       "      <td>2196-04-09 10:14:00</td>\n",
       "      <td>35.9</td>\n",
       "      <td>35.9</td>\n",
       "      <td>%</td>\n",
       "      <td>abnormal</td>\n",
       "      <td>0</td>\n",
       "    </tr>\n",
       "  </tbody>\n",
       "</table>\n",
       "<p>5 rows × 47 columns</p>\n",
       "</div>"
      ],
      "text/plain": [
       "   ROW_ID_x  SUBJECT_ID  HADM_ID            ADMITTIME            DISCHTIME  \\\n",
       "0        21          22   165315  2196-04-09 12:26:00  2196-04-10 15:54:00   \n",
       "1        21          22   165315  2196-04-09 12:26:00  2196-04-10 15:54:00   \n",
       "2        21          22   165315  2196-04-09 12:26:00  2196-04-10 15:54:00   \n",
       "3        21          22   165315  2196-04-09 12:26:00  2196-04-10 15:54:00   \n",
       "4        21          22   165315  2196-04-09 12:26:00  2196-04-10 15:54:00   \n",
       "\n",
       "  DEATHTIME ADMISSION_TYPE    ADMISSION_LOCATION         DISCHARGE_LOCATION  \\\n",
       "0       NaN      EMERGENCY  EMERGENCY ROOM ADMIT  DISC-TRAN CANCER/CHLDRN H   \n",
       "1       NaN      EMERGENCY  EMERGENCY ROOM ADMIT  DISC-TRAN CANCER/CHLDRN H   \n",
       "2       NaN      EMERGENCY  EMERGENCY ROOM ADMIT  DISC-TRAN CANCER/CHLDRN H   \n",
       "3       NaN      EMERGENCY  EMERGENCY ROOM ADMIT  DISC-TRAN CANCER/CHLDRN H   \n",
       "4       NaN      EMERGENCY  EMERGENCY ROOM ADMIT  DISC-TRAN CANCER/CHLDRN H   \n",
       "\n",
       "  INSURANCE  ...              OUTTIME     LOS ROW_ID ITEMID  \\\n",
       "0   Private  ...  2196-04-10 15:54:00  1.1438  10626  51221   \n",
       "1   Private  ...  2196-04-10 15:54:00  1.1438  10644  51279   \n",
       "2   Private  ...  2196-04-10 15:54:00  1.1438  10658  50931   \n",
       "3   Private  ...  2196-04-10 15:54:00  1.1438  10661  50971   \n",
       "4   Private  ...  2196-04-10 15:54:00  1.1438  10626  51221   \n",
       "\n",
       "             CHARTTIME VALUE VALUENUM  VALUEUOM      FLAG  heart_failure  \n",
       "0  2196-04-09 10:14:00  35.9     35.9         %  abnormal              0  \n",
       "1  2196-04-09 10:14:00  4.00      4.0      m/uL  abnormal              0  \n",
       "2  2196-04-10 08:01:00   108    108.0     mg/dL  abnormal              0  \n",
       "3  2196-04-10 08:01:00   3.4      3.4     mEq/L  abnormal              0  \n",
       "4  2196-04-09 10:14:00  35.9     35.9         %  abnormal              0  \n",
       "\n",
       "[5 rows x 47 columns]"
      ]
     },
     "execution_count": 24,
     "metadata": {},
     "output_type": "execute_result"
    }
   ],
   "source": [
    "patient_admissions_icustays_lab.head()"
   ]
  },
  {
   "cell_type": "code",
   "execution_count": 25,
   "id": "93bb4433",
   "metadata": {},
   "outputs": [
    {
     "name": "stdout",
     "output_type": "stream",
     "text": [
      "           ROW_ID_x    SUBJECT_ID       HADM_ID  HOSPITAL_EXPIRE_FLAG  \\\n",
      "count  1.948529e+06  1.948529e+06  1.948529e+06          1.948529e+06   \n",
      "mean   4.731081e+02  3.770694e+02  1.514113e+05          2.289250e-01   \n",
      "std    4.063520e+02  5.701346e+02  2.995156e+04          4.201410e-01   \n",
      "min    1.000000e+00  2.000000e+00  1.000090e+05          0.000000e+00   \n",
      "25%    2.510000e+02  1.880000e+02  1.281320e+05          0.000000e+00   \n",
      "50%    4.580000e+02  3.570000e+02  1.496480e+05          0.000000e+00   \n",
      "75%    6.790000e+02  5.400000e+02  1.771710e+05          0.000000e+00   \n",
      "max    5.868500e+04  9.909600e+04  1.997650e+05          1.000000e+00   \n",
      "\n",
      "       HAS_CHARTEVENTS_DATA      ROW_ID_y   EXPIRE_FLAG      ROW_ID_x  \\\n",
      "count          1.948529e+06  1.948529e+06  1.948529e+06  1.948529e+06   \n",
      "mean           9.983685e-01  3.537325e+02  6.421639e-01  4.425028e+03   \n",
      "std            4.035872e-02  3.177278e+02  4.793637e-01  4.224277e+03   \n",
      "min            0.000000e+00  1.000000e+00  0.000000e+00  1.000000e+00   \n",
      "25%            1.000000e+00  1.780000e+02  0.000000e+00  2.297000e+03   \n",
      "50%            1.000000e+00  3.360000e+02  1.000000e+00  4.325000e+03   \n",
      "75%            1.000000e+00  5.110000e+02  1.000000e+00  6.375000e+03   \n",
      "max            1.000000e+00  4.628500e+04  1.000000e+00  6.467660e+05   \n",
      "\n",
      "            SEQ_NUM      ROW_ID_y    ICUSTAY_ID  FIRST_WARDID   LAST_WARDID  \\\n",
      "count  1.948529e+06  1.948529e+06  1.948529e+06  1.948529e+06  1.948529e+06   \n",
      "mean   8.689394e+00  4.916682e+02  2.500350e+05  3.360680e+01  3.510997e+01   \n",
      "std    6.260069e+00  4.218669e+02  2.669756e+04  1.882886e+01  1.887394e+01   \n",
      "min    1.000000e+00  1.000000e+00  2.000660e+05  7.000000e+00  7.000000e+00   \n",
      "25%    4.000000e+00  2.610000e+02  2.273760e+05  1.400000e+01  1.500000e+01   \n",
      "50%    7.000000e+00  4.760000e+02  2.488960e+05  3.300000e+01  3.300000e+01   \n",
      "75%    1.200000e+01  7.060000e+02  2.719180e+05  5.200000e+01  5.200000e+01   \n",
      "max    3.900000e+01  6.122800e+04  2.999760e+05  5.700000e+01  5.700000e+01   \n",
      "\n",
      "                LOS        ROW_ID        ITEMID      VALUENUM  heart_failure  \n",
      "count  1.946471e+06  1.948529e+06  1.948529e+06  1.948529e+06   1.948529e+06  \n",
      "mean   1.488765e+01  2.464697e+05  5.105950e+04  1.054406e+02   3.354787e-02  \n",
      "std    2.094577e+01  2.065107e+05  1.884516e+02  4.499208e+03   1.800623e-01  \n",
      "min    4.400000e-03  5.000000e+00  5.080300e+04  0.000000e+00   0.000000e+00  \n",
      "25%    2.796900e+00  1.225060e+05  5.088500e+04  7.480000e+00   0.000000e+00  \n",
      "50%    6.165400e+00  2.321500e+05  5.100600e+04  2.220000e+01   0.000000e+00  \n",
      "75%    1.517250e+01  3.709080e+05  5.125400e+04  6.600000e+01   0.000000e+00  \n",
      "max    1.173351e+02  2.778012e+07  5.151600e+04  1.772400e+06   1.000000e+00  \n"
     ]
    }
   ],
   "source": [
    "# get the statistics of the dataframe\n",
    "patient_admissions_icustays_lab_stats = patient_admissions_icustays_lab.describe()\n",
    "\n",
    "# print the statistics\n",
    "print(patient_admissions_icustays_lab_stats)"
   ]
  },
  {
   "cell_type": "markdown",
   "id": "e85edd4d",
   "metadata": {},
   "source": [
    "From the final merged data frame, first identify what all columns we have. Once idnetified, determine what columnms are required further as an input to the model.\n",
    "\n",
    "Based on that create another dataframe with required set of columns. Remove the duplicate records to avoid unnecessary training on the duplicates.\n",
    "\n",
    "Finally, analyze the data by looking at the sample records, statistics etc."
   ]
  },
  {
   "cell_type": "code",
   "execution_count": 26,
   "id": "27ff0eea",
   "metadata": {
    "scrolled": false
   },
   "outputs": [
    {
     "name": "stdout",
     "output_type": "stream",
     "text": [
      "['ROW_ID_x', 'SUBJECT_ID', 'HADM_ID', 'ADMITTIME', 'DISCHTIME', 'DEATHTIME', 'ADMISSION_TYPE', 'ADMISSION_LOCATION', 'DISCHARGE_LOCATION', 'INSURANCE', 'LANGUAGE', 'RELIGION', 'MARITAL_STATUS', 'ETHNICITY', 'EDREGTIME', 'EDOUTTIME', 'DIAGNOSIS', 'HOSPITAL_EXPIRE_FLAG', 'HAS_CHARTEVENTS_DATA', 'ROW_ID_y', 'GENDER', 'DOB', 'DOD', 'DOD_HOSP', 'DOD_SSN', 'EXPIRE_FLAG', 'ROW_ID_x', 'SEQ_NUM', 'ICD9_CODE', 'ROW_ID_y', 'ICUSTAY_ID', 'DBSOURCE', 'FIRST_CAREUNIT', 'LAST_CAREUNIT', 'FIRST_WARDID', 'LAST_WARDID', 'INTIME', 'OUTTIME', 'LOS', 'ROW_ID', 'ITEMID', 'CHARTTIME', 'VALUE', 'VALUENUM', 'VALUEUOM', 'FLAG', 'heart_failure']\n"
     ]
    }
   ],
   "source": [
    "columns = patient_admissions_icustays_lab.columns.tolist()\n",
    "print(columns)"
   ]
  },
  {
   "cell_type": "code",
   "execution_count": 27,
   "id": "cc27a2e2",
   "metadata": {},
   "outputs": [],
   "source": [
    "input_df = patient_admissions_icustays_lab[['SUBJECT_ID','MARITAL_STATUS','DIAGNOSIS','GENDER','ICD9_CODE','LOS','ITEMID','VALUENUM','FLAG','heart_failure']]"
   ]
  },
  {
   "cell_type": "code",
   "execution_count": 28,
   "id": "9a826c8a",
   "metadata": {},
   "outputs": [],
   "source": [
    "input_df.head()\n",
    "input_onehot_df = input_df"
   ]
  },
  {
   "cell_type": "code",
   "execution_count": 29,
   "id": "3c18ee6e",
   "metadata": {},
   "outputs": [],
   "source": [
    "input_onehot_df.head()\n",
    "input_onehot_df = input_onehot_df.drop_duplicates()"
   ]
  },
  {
   "cell_type": "code",
   "execution_count": 30,
   "id": "40fc8217",
   "metadata": {},
   "outputs": [
    {
     "data": {
      "text/html": [
       "<div>\n",
       "<style scoped>\n",
       "    .dataframe tbody tr th:only-of-type {\n",
       "        vertical-align: middle;\n",
       "    }\n",
       "\n",
       "    .dataframe tbody tr th {\n",
       "        vertical-align: top;\n",
       "    }\n",
       "\n",
       "    .dataframe thead th {\n",
       "        text-align: right;\n",
       "    }\n",
       "</style>\n",
       "<table border=\"1\" class=\"dataframe\">\n",
       "  <thead>\n",
       "    <tr style=\"text-align: right;\">\n",
       "      <th></th>\n",
       "      <th>SUBJECT_ID</th>\n",
       "      <th>MARITAL_STATUS</th>\n",
       "      <th>DIAGNOSIS</th>\n",
       "      <th>GENDER</th>\n",
       "      <th>ICD9_CODE</th>\n",
       "      <th>LOS</th>\n",
       "      <th>ITEMID</th>\n",
       "      <th>VALUENUM</th>\n",
       "      <th>FLAG</th>\n",
       "      <th>heart_failure</th>\n",
       "    </tr>\n",
       "  </thead>\n",
       "  <tbody>\n",
       "    <tr>\n",
       "      <th>0</th>\n",
       "      <td>22</td>\n",
       "      <td>MARRIED</td>\n",
       "      <td>BENZODIAZEPINE OVERDOSE</td>\n",
       "      <td>F</td>\n",
       "      <td>9678</td>\n",
       "      <td>1.1438</td>\n",
       "      <td>51221</td>\n",
       "      <td>35.9</td>\n",
       "      <td>abnormal</td>\n",
       "      <td>0</td>\n",
       "    </tr>\n",
       "    <tr>\n",
       "      <th>1</th>\n",
       "      <td>22</td>\n",
       "      <td>MARRIED</td>\n",
       "      <td>BENZODIAZEPINE OVERDOSE</td>\n",
       "      <td>F</td>\n",
       "      <td>9678</td>\n",
       "      <td>1.1438</td>\n",
       "      <td>51279</td>\n",
       "      <td>4.0</td>\n",
       "      <td>abnormal</td>\n",
       "      <td>0</td>\n",
       "    </tr>\n",
       "    <tr>\n",
       "      <th>2</th>\n",
       "      <td>22</td>\n",
       "      <td>MARRIED</td>\n",
       "      <td>BENZODIAZEPINE OVERDOSE</td>\n",
       "      <td>F</td>\n",
       "      <td>9678</td>\n",
       "      <td>1.1438</td>\n",
       "      <td>50931</td>\n",
       "      <td>108.0</td>\n",
       "      <td>abnormal</td>\n",
       "      <td>0</td>\n",
       "    </tr>\n",
       "    <tr>\n",
       "      <th>3</th>\n",
       "      <td>22</td>\n",
       "      <td>MARRIED</td>\n",
       "      <td>BENZODIAZEPINE OVERDOSE</td>\n",
       "      <td>F</td>\n",
       "      <td>9678</td>\n",
       "      <td>1.1438</td>\n",
       "      <td>50971</td>\n",
       "      <td>3.4</td>\n",
       "      <td>abnormal</td>\n",
       "      <td>0</td>\n",
       "    </tr>\n",
       "    <tr>\n",
       "      <th>4</th>\n",
       "      <td>22</td>\n",
       "      <td>MARRIED</td>\n",
       "      <td>BENZODIAZEPINE OVERDOSE</td>\n",
       "      <td>F</td>\n",
       "      <td>9693</td>\n",
       "      <td>1.1438</td>\n",
       "      <td>51221</td>\n",
       "      <td>35.9</td>\n",
       "      <td>abnormal</td>\n",
       "      <td>0</td>\n",
       "    </tr>\n",
       "  </tbody>\n",
       "</table>\n",
       "</div>"
      ],
      "text/plain": [
       "   SUBJECT_ID MARITAL_STATUS                DIAGNOSIS GENDER ICD9_CODE  \\\n",
       "0          22        MARRIED  BENZODIAZEPINE OVERDOSE      F      9678   \n",
       "1          22        MARRIED  BENZODIAZEPINE OVERDOSE      F      9678   \n",
       "2          22        MARRIED  BENZODIAZEPINE OVERDOSE      F      9678   \n",
       "3          22        MARRIED  BENZODIAZEPINE OVERDOSE      F      9678   \n",
       "4          22        MARRIED  BENZODIAZEPINE OVERDOSE      F      9693   \n",
       "\n",
       "      LOS  ITEMID  VALUENUM      FLAG  heart_failure  \n",
       "0  1.1438   51221      35.9  abnormal              0  \n",
       "1  1.1438   51279       4.0  abnormal              0  \n",
       "2  1.1438   50931     108.0  abnormal              0  \n",
       "3  1.1438   50971       3.4  abnormal              0  \n",
       "4  1.1438   51221      35.9  abnormal              0  "
      ]
     },
     "execution_count": 30,
     "metadata": {},
     "output_type": "execute_result"
    }
   ],
   "source": [
    "input_onehot_df.head()"
   ]
  },
  {
   "cell_type": "code",
   "execution_count": 31,
   "id": "bf6b0023",
   "metadata": {},
   "outputs": [
    {
     "name": "stdout",
     "output_type": "stream",
     "text": [
      "         SUBJECT_ID           LOS        ITEMID      VALUENUM  heart_failure\n",
      "count  1.456053e+06  1.454527e+06  1.456053e+06  1.456053e+06   1.456053e+06\n",
      "mean   3.775844e+02  1.287129e+01  5.107288e+04  1.289660e+02   3.380715e-02\n",
      "std    6.486656e+02  1.888934e+01  1.886428e+02  5.204479e+03   1.807325e-01\n",
      "min    2.000000e+00  4.400000e-03  5.080300e+04  0.000000e+00   0.000000e+00\n",
      "25%    1.880000e+02  2.524300e+00  5.089300e+04  7.550000e+00   0.000000e+00\n",
      "50%    3.570000e+02  5.913300e+00  5.100600e+04  2.480000e+01   0.000000e+00\n",
      "75%    5.460000e+02  1.232410e+01  5.126500e+04  7.700000e+01   0.000000e+00\n",
      "max    9.909600e+04  1.173351e+02  5.151600e+04  1.772400e+06   1.000000e+00\n"
     ]
    }
   ],
   "source": [
    "# get the statistics of the dataframe\n",
    "input_onehot_stats = input_onehot_df.describe()\n",
    "\n",
    "# print the statistics\n",
    "print(input_onehot_stats)"
   ]
  },
  {
   "cell_type": "markdown",
   "id": "e37626c0",
   "metadata": {},
   "source": [
    "### Create charts for data analysis\n",
    "\n",
    "Create a set of histograms to visualize the distribution of the data for each variable in the input dataframe. The resulting figure shows a set of subplots, with each subplot displaying a histogram for a different variable. This can help to provide insight into the distribution of the data, such as whether it is normally distributed or skewed, and identify any outliers or patterns in the data."
   ]
  },
  {
   "cell_type": "code",
   "execution_count": 32,
   "id": "ba9715e0",
   "metadata": {},
   "outputs": [],
   "source": [
    "import matplotlib.pyplot as plt\n",
    "from pandas.plotting import scatter_matrix\n",
    "import seaborn as sns"
   ]
  },
  {
   "cell_type": "code",
   "execution_count": 33,
   "id": "5eb5d479",
   "metadata": {
    "scrolled": false
   },
   "outputs": [
    {
     "data": {
      "image/png": "[encoded data removed]",
      "text/plain": [
       "<Figure size 864x864 with 6 Axes>"
      ]
     },
     "metadata": {
      "needs_background": "light"
     },
     "output_type": "display_data"
    }
   ],
   "source": [
    "# plot histograms for each variable\n",
    "input_onehot_df.hist(figsize = (12, 12))\n",
    "plt.show()"
   ]
  },
  {
   "cell_type": "markdown",
   "id": "60b54a4d",
   "metadata": {},
   "source": [
    "The resulting bar chart displays the frequency of heart failure cases for each gender, with each bar representing a different gender. This type of chart is useful for comparing the number of cases between different categories and identifying any differences or patterns between them."
   ]
  },
  {
   "cell_type": "code",
   "execution_count": 34,
   "id": "f0999ad2",
   "metadata": {
    "scrolled": true
   },
   "outputs": [
    {
     "data": {
      "image/png": "[encoded data removed]",
      "text/plain": [
       "<Figure size 720x576 with 1 Axes>"
      ]
     },
     "metadata": {
      "needs_background": "light"
     },
     "output_type": "display_data"
    }
   ],
   "source": [
    "pd.crosstab(input_onehot_df.GENDER,input_onehot_df.heart_failure).plot(kind=\"bar\",figsize=(10,8))\n",
    "plt.title('Heart failure Frequency for GENDER')\n",
    "plt.xlabel('GENDER')\n",
    "plt.ylabel('Frequency')\n",
    "plt.show()"
   ]
  },
  {
   "cell_type": "markdown",
   "id": "dc1b7f60",
   "metadata": {},
   "source": [
    "## One-hot encoding\n",
    "One-hot encoding is a popular technique used to transform categorical variables into a numerical representation that can be used in machine learning models. This technique creates binary features for each unique category in the original variable, where the value is 1 if the observation belongs to that category and 0 otherwise. One-hot encoding is useful because it preserves the original information about categories while avoiding any assumption of ordering or magnitude of values, and it allows the use of categorical data in various machine learning models that require numerical input.\n",
    "\n",
    "Perform the one-hot encoding for the required columns in input dataframe and drop unnecessary columns."
   ]
  },
  {
   "cell_type": "code",
   "execution_count": 35,
   "id": "81bea001",
   "metadata": {},
   "outputs": [],
   "source": [
    "one_hot = pd.get_dummies(input_onehot_df['MARITAL_STATUS'])\n",
    "input_onehot_df = input_onehot_df.drop('MARITAL_STATUS', axis=1)\n",
    "input_onehot_df = input_onehot_df.join(one_hot)"
   ]
  },
  {
   "cell_type": "code",
   "execution_count": 36,
   "id": "68f682e0",
   "metadata": {},
   "outputs": [],
   "source": [
    "one_hot = pd.get_dummies(input_onehot_df['DIAGNOSIS'])\n",
    "input_onehot_df = input_onehot_df.drop('DIAGNOSIS', axis=1)\n",
    "input_onehot_df = input_onehot_df.join(one_hot)"
   ]
  },
  {
   "cell_type": "code",
   "execution_count": 37,
   "id": "ad254bb3",
   "metadata": {},
   "outputs": [],
   "source": [
    "one_hot = pd.get_dummies(input_onehot_df['GENDER'])\n",
    "input_onehot_df = input_onehot_df.drop('GENDER', axis=1)\n",
    "input_onehot_df = input_onehot_df.join(one_hot)"
   ]
  },
  {
   "cell_type": "code",
   "execution_count": 38,
   "id": "061eb729",
   "metadata": {},
   "outputs": [],
   "source": [
    "one_hot = pd.get_dummies(input_onehot_df['ITEMID'])\n",
    "input_onehot_df = input_onehot_df.drop('ITEMID', axis=1)\n",
    "input_onehot_df = input_onehot_df.join(one_hot)"
   ]
  },
  {
   "cell_type": "code",
   "execution_count": 39,
   "id": "b2a5c729",
   "metadata": {},
   "outputs": [],
   "source": [
    "one_hot = pd.get_dummies(input_onehot_df['FLAG'])\n",
    "input_onehot_df = input_onehot_df.drop('FLAG', axis=1)\n",
    "input_onehot_df = input_onehot_df.join(one_hot)"
   ]
  },
  {
   "cell_type": "code",
   "execution_count": 40,
   "id": "ae72ecab",
   "metadata": {},
   "outputs": [],
   "source": [
    "#one_hot = pd.get_dummies(input_onehot_df['ICD9_CODE'])\n",
    "input_onehot_df = input_onehot_df.drop('ICD9_CODE', axis=1)\n",
    "#input_onehot_df = input_onehot_df.join(one_hot)\n",
    "\n",
    "input_onehot_df = input_onehot_df.drop('LOS', axis=1)\n",
    "input_onehot_df = input_onehot_df.drop('SUBJECT_ID', axis=1)\n",
    "input_onehot_df = input_onehot_df.drop('VALUENUM', axis=1)"
   ]
  },
  {
   "cell_type": "code",
   "execution_count": 41,
   "id": "cfe3c3a2",
   "metadata": {
    "scrolled": true
   },
   "outputs": [
    {
     "data": {
      "text/html": [
       "<div>\n",
       "<style scoped>\n",
       "    .dataframe tbody tr th:only-of-type {\n",
       "        vertical-align: middle;\n",
       "    }\n",
       "\n",
       "    .dataframe tbody tr th {\n",
       "        vertical-align: top;\n",
       "    }\n",
       "\n",
       "    .dataframe thead th {\n",
       "        text-align: right;\n",
       "    }\n",
       "</style>\n",
       "<table border=\"1\" class=\"dataframe\">\n",
       "  <thead>\n",
       "    <tr style=\"text-align: right;\">\n",
       "      <th></th>\n",
       "      <th>heart_failure</th>\n",
       "      <th>DIVORCED</th>\n",
       "      <th>MARRIED</th>\n",
       "      <th>SEPARATED</th>\n",
       "      <th>SINGLE</th>\n",
       "      <th>UNKNOWN (DEFAULT)</th>\n",
       "      <th>WIDOWED</th>\n",
       "      <th>+ETT;CORONARY ARTERY DISEASE\\CATH</th>\n",
       "      <th>+ETT\\CATH</th>\n",
       "      <th>3RD DEGREE HEART BLOCK</th>\n",
       "      <th>...</th>\n",
       "      <th>51458</th>\n",
       "      <th>51479</th>\n",
       "      <th>51482</th>\n",
       "      <th>51491</th>\n",
       "      <th>51493</th>\n",
       "      <th>51498</th>\n",
       "      <th>51514</th>\n",
       "      <th>51516</th>\n",
       "      <th>abnormal</th>\n",
       "      <th>delta</th>\n",
       "    </tr>\n",
       "  </thead>\n",
       "  <tbody>\n",
       "    <tr>\n",
       "      <th>0</th>\n",
       "      <td>0</td>\n",
       "      <td>0</td>\n",
       "      <td>1</td>\n",
       "      <td>0</td>\n",
       "      <td>0</td>\n",
       "      <td>0</td>\n",
       "      <td>0</td>\n",
       "      <td>0</td>\n",
       "      <td>0</td>\n",
       "      <td>0</td>\n",
       "      <td>...</td>\n",
       "      <td>0</td>\n",
       "      <td>0</td>\n",
       "      <td>0</td>\n",
       "      <td>0</td>\n",
       "      <td>0</td>\n",
       "      <td>0</td>\n",
       "      <td>0</td>\n",
       "      <td>0</td>\n",
       "      <td>1</td>\n",
       "      <td>0</td>\n",
       "    </tr>\n",
       "    <tr>\n",
       "      <th>1</th>\n",
       "      <td>0</td>\n",
       "      <td>0</td>\n",
       "      <td>1</td>\n",
       "      <td>0</td>\n",
       "      <td>0</td>\n",
       "      <td>0</td>\n",
       "      <td>0</td>\n",
       "      <td>0</td>\n",
       "      <td>0</td>\n",
       "      <td>0</td>\n",
       "      <td>...</td>\n",
       "      <td>0</td>\n",
       "      <td>0</td>\n",
       "      <td>0</td>\n",
       "      <td>0</td>\n",
       "      <td>0</td>\n",
       "      <td>0</td>\n",
       "      <td>0</td>\n",
       "      <td>0</td>\n",
       "      <td>1</td>\n",
       "      <td>0</td>\n",
       "    </tr>\n",
       "    <tr>\n",
       "      <th>2</th>\n",
       "      <td>0</td>\n",
       "      <td>0</td>\n",
       "      <td>1</td>\n",
       "      <td>0</td>\n",
       "      <td>0</td>\n",
       "      <td>0</td>\n",
       "      <td>0</td>\n",
       "      <td>0</td>\n",
       "      <td>0</td>\n",
       "      <td>0</td>\n",
       "      <td>...</td>\n",
       "      <td>0</td>\n",
       "      <td>0</td>\n",
       "      <td>0</td>\n",
       "      <td>0</td>\n",
       "      <td>0</td>\n",
       "      <td>0</td>\n",
       "      <td>0</td>\n",
       "      <td>0</td>\n",
       "      <td>1</td>\n",
       "      <td>0</td>\n",
       "    </tr>\n",
       "    <tr>\n",
       "      <th>3</th>\n",
       "      <td>0</td>\n",
       "      <td>0</td>\n",
       "      <td>1</td>\n",
       "      <td>0</td>\n",
       "      <td>0</td>\n",
       "      <td>0</td>\n",
       "      <td>0</td>\n",
       "      <td>0</td>\n",
       "      <td>0</td>\n",
       "      <td>0</td>\n",
       "      <td>...</td>\n",
       "      <td>0</td>\n",
       "      <td>0</td>\n",
       "      <td>0</td>\n",
       "      <td>0</td>\n",
       "      <td>0</td>\n",
       "      <td>0</td>\n",
       "      <td>0</td>\n",
       "      <td>0</td>\n",
       "      <td>1</td>\n",
       "      <td>0</td>\n",
       "    </tr>\n",
       "    <tr>\n",
       "      <th>4</th>\n",
       "      <td>0</td>\n",
       "      <td>0</td>\n",
       "      <td>1</td>\n",
       "      <td>0</td>\n",
       "      <td>0</td>\n",
       "      <td>0</td>\n",
       "      <td>0</td>\n",
       "      <td>0</td>\n",
       "      <td>0</td>\n",
       "      <td>0</td>\n",
       "      <td>...</td>\n",
       "      <td>0</td>\n",
       "      <td>0</td>\n",
       "      <td>0</td>\n",
       "      <td>0</td>\n",
       "      <td>0</td>\n",
       "      <td>0</td>\n",
       "      <td>0</td>\n",
       "      <td>0</td>\n",
       "      <td>1</td>\n",
       "      <td>0</td>\n",
       "    </tr>\n",
       "  </tbody>\n",
       "</table>\n",
       "<p>5 rows × 684 columns</p>\n",
       "</div>"
      ],
      "text/plain": [
       "   heart_failure  DIVORCED  MARRIED  SEPARATED  SINGLE  UNKNOWN (DEFAULT)  \\\n",
       "0              0         0        1          0       0                  0   \n",
       "1              0         0        1          0       0                  0   \n",
       "2              0         0        1          0       0                  0   \n",
       "3              0         0        1          0       0                  0   \n",
       "4              0         0        1          0       0                  0   \n",
       "\n",
       "   WIDOWED  +ETT;CORONARY ARTERY DISEASE\\CATH  +ETT\\CATH  \\\n",
       "0        0                                  0          0   \n",
       "1        0                                  0          0   \n",
       "2        0                                  0          0   \n",
       "3        0                                  0          0   \n",
       "4        0                                  0          0   \n",
       "\n",
       "   3RD DEGREE HEART BLOCK  ...  51458  51479  51482  51491  51493  51498  \\\n",
       "0                       0  ...      0      0      0      0      0      0   \n",
       "1                       0  ...      0      0      0      0      0      0   \n",
       "2                       0  ...      0      0      0      0      0      0   \n",
       "3                       0  ...      0      0      0      0      0      0   \n",
       "4                       0  ...      0      0      0      0      0      0   \n",
       "\n",
       "   51514  51516  abnormal  delta  \n",
       "0      0      0         1      0  \n",
       "1      0      0         1      0  \n",
       "2      0      0         1      0  \n",
       "3      0      0         1      0  \n",
       "4      0      0         1      0  \n",
       "\n",
       "[5 rows x 684 columns]"
      ]
     },
     "execution_count": 41,
     "metadata": {},
     "output_type": "execute_result"
    }
   ],
   "source": [
    "input_onehot_df.head()"
   ]
  },
  {
   "cell_type": "code",
   "execution_count": 42,
   "id": "2b77cfe9",
   "metadata": {},
   "outputs": [
    {
     "name": "stdout",
     "output_type": "stream",
     "text": [
      "1456053\n",
      "97\n"
     ]
    }
   ],
   "source": [
    "input_onehot_df.head()\n",
    "print(input_onehot_df.shape[0])\n",
    "\n",
    "input_limited_df = input_onehot_df.loc[:100, :]\n",
    "print(input_limited_df.shape[0])"
   ]
  },
  {
   "cell_type": "markdown",
   "id": "e011ad97",
   "metadata": {},
   "source": [
    "### Split into Training & testing\n",
    "\n",
    "Split the input data (input_limited_df) into training and testing sets using the train_test_split() function from scikit-learn.\n",
    "\n",
    "First, the input data is split into the independent variables X and the dependent variable y. The drop() function is used to remove the heart_failure column from X, since it contains the target variable that we want to predict.\n",
    "\n",
    "Next, the train_test_split() function is called with the following arguments:\n",
    "\n",
    "X and y are passed as the input data and target variable, respectively\n",
    "\n",
    "test_size=0.2 specifies that 20% of the data should be used for testing, while the remaining 80% is used for training\n",
    "\n",
    "random_state=42 sets the random seed for reproducibility\n",
    "\n",
    "The function returns four arrays:\n",
    "\n",
    "X_train and y_train: the training set, which will be used to fit the machine learning model\n",
    "\n",
    "X_test and y_test: the testing set, which will be used to evaluate the performance of the model on unseen data\n",
    "\n",
    "By splitting the data into training and testing sets, we can check the performance of the model on data that it has not seen before, which helps to avoid overfitting."
   ]
  },
  {
   "cell_type": "code",
   "execution_count": 43,
   "id": "4749eb9a",
   "metadata": {},
   "outputs": [],
   "source": [
    "from sklearn.model_selection import train_test_split\n",
    "\n",
    "# Split the data into input (X) and target (y) variables\n",
    "X = input_limited_df.drop(['heart_failure'], axis=1)\n",
    "y = input_limited_df['heart_failure']\n",
    "\n",
    "# Split the data into training and testing sets\n",
    "X_train, X_test, y_train, y_test = train_test_split(X, y, test_size=0.2, random_state=42)"
   ]
  },
  {
   "cell_type": "markdown",
   "id": "58cc2f55",
   "metadata": {},
   "source": [
    "## Model Implementation (RNN with GRU)\n",
    "\n",
    "Import necessary libraries from Keras and converts training and testing data to a float32 data type. It then defines a neural network model using Keras with three layers: an Embedding layer, a GRU layer, and two dense layers. The Embedding layer is used to map the input data to a lower-dimensional space, while the GRU layer is a type of recurrent neural network that can model sequential data. The two dense layers are fully connected layers that add nonlinearity to the model. The activation functions used in the model are ReLU for the GRU and the first dense layer, and sigmoid for the final dense layer. A dropout layer is also included to help prevent overfitting. The model summary shows the details of each layer, including the number of parameters and the output shape."
   ]
  },
  {
   "cell_type": "code",
   "execution_count": 45,
   "id": "4a02f06a",
   "metadata": {},
   "outputs": [
    {
     "name": "stdout",
     "output_type": "stream",
     "text": [
      "Model: \"sequential_1\"\n",
      "_________________________________________________________________\n",
      " Layer (type)                Output Shape              Param #   \n",
      "=================================================================\n",
      " embedding_1 (Embedding)     (None, 1, 683)            1366      \n",
      "                                                                 \n",
      " gru_1 (GRU)                 (None, 32)                68832     \n",
      "                                                                 \n",
      " dense_1 (Dense)             (None, 16)                528       \n",
      "                                                                 \n",
      " dropout (Dropout)           (None, 16)                0         \n",
      "                                                                 \n",
      " dense_2 (Dense)             (None, 1)                 17        \n",
      "                                                                 \n",
      "=================================================================\n",
      "Total params: 70,743\n",
      "Trainable params: 70,743\n",
      "Non-trainable params: 0\n",
      "_________________________________________________________________\n"
     ]
    }
   ],
   "source": [
    "from keras.models import Sequential\n",
    "from tensorflow.keras.layers import GRU, Dense, Dropout, Embedding\n",
    "\n",
    "\n",
    "X_train.astype('float32')\n",
    "X_test.astype('float32')\n",
    "# Define the number of features and the length of the input sequences\n",
    "num_features = X_train.shape[1]\n",
    "seq_length = 1\n",
    "\n",
    "# Define the model architecture\n",
    "model = Sequential()\n",
    "model.add(Embedding(input_dim=2, output_dim=num_features, input_length=seq_length))\n",
    "model.add(GRU(units=32, activation='relu', input_shape=(seq_length, num_features)))\n",
    "model.add(Dense(units=16, activation='relu'))\n",
    "model.add(Dropout(0.2))\n",
    "model.add(Dense(units=1, activation='sigmoid'))\n",
    "\n",
    "model.summary()\n"
   ]
  },
  {
   "cell_type": "code",
   "execution_count": 46,
   "id": "e3a3d741",
   "metadata": {},
   "outputs": [
    {
     "data": {
      "text/plain": [
       "(77, 683)"
      ]
     },
     "execution_count": 46,
     "metadata": {},
     "output_type": "execute_result"
    }
   ],
   "source": [
    "X_train.shape"
   ]
  },
  {
   "cell_type": "code",
   "execution_count": 47,
   "id": "1dbcb646",
   "metadata": {},
   "outputs": [
    {
     "data": {
      "text/plain": [
       "(20, 683)"
      ]
     },
     "execution_count": 47,
     "metadata": {},
     "output_type": "execute_result"
    }
   ],
   "source": [
    "X_test.shape"
   ]
  },
  {
   "cell_type": "markdown",
   "id": "13048837",
   "metadata": {},
   "source": [
    "Model has been defined using the Keras library to train on the given input data X_train and target data y_train.\n",
    "\n",
    "The compile() function has been called on the model to set the loss function, optimizer, and evaluation metric. Specifically, the binary cross-entropy loss function is being used with the Adam optimizer and accuracy is the evaluation metric.\n",
    "\n",
    "The fit() function is then called on the model to train it on the training data X_train and y_train for 10 epochs with a batch size of 32. The validation data is provided to the model to evaluate the performance of the model on data that it has not seen before."
   ]
  },
  {
   "cell_type": "code",
   "execution_count": 49,
   "id": "a60d522e",
   "metadata": {
    "scrolled": true
   },
   "outputs": [
    {
     "name": "stderr",
     "output_type": "stream",
     "text": [
      "WARNING:absl:`lr` is deprecated in Keras optimizer, please use `learning_rate` or use the legacy optimizer, e.g.,tf.keras.optimizers.legacy.Adam.\n"
     ]
    },
    {
     "name": "stdout",
     "output_type": "stream",
     "text": [
      "Epoch 1/3\n",
      "16/16 [==============================] - 4s 157ms/step - loss: 0.4858 - accuracy: 1.0000 - val_loss: 0.2307 - val_accuracy: 1.0000\n",
      "Epoch 2/3\n",
      "16/16 [==============================] - 2s 140ms/step - loss: 0.1017 - accuracy: 1.0000 - val_loss: 0.0048 - val_accuracy: 1.0000\n",
      "Epoch 3/3\n",
      "16/16 [==============================] - 2s 148ms/step - loss: 0.0041 - accuracy: 1.0000 - val_loss: 2.8143e-06 - val_accuracy: 1.0000\n"
     ]
    },
    {
     "data": {
      "text/plain": [
       "<keras.callbacks.History at 0x7f9cfba43d30>"
      ]
     },
     "execution_count": 49,
     "metadata": {},
     "output_type": "execute_result"
    }
   ],
   "source": [
    "from tensorflow.keras.optimizers import Adam\n",
    "\n",
    "optimizer = Adam(lr=0.001)\n",
    "model.compile(loss='binary_crossentropy', optimizer=optimizer, metrics=['accuracy'])\n",
    "#model.fit(X_train.values.reshape(-1, 1, num_features), y_train.values, epochs=10, batch_size=32, validation_data=(X_test.values.reshape(-1, 1, num_features), y_test.values))\n",
    "\n",
    "\n",
    "model.fit(X_train, y_train, epochs=3, batch_size=5, validation_data=(X_test, y_test))"
   ]
  },
  {
   "cell_type": "markdown",
   "id": "e20d63b6",
   "metadata": {},
   "source": [
    "## Model evaluation\n",
    "\n",
    "The trained neural network model is evaluated on the testing set to determine its accuracy. The function model.evaluate() is used to obtain the loss and accuracy values of the model on the testing set, which are then printed to the console using print(). The output of the code will show the test accuracy of the trained model."
   ]
  },
  {
   "cell_type": "code",
   "execution_count": 50,
   "id": "8dd73861",
   "metadata": {},
   "outputs": [
    {
     "name": "stdout",
     "output_type": "stream",
     "text": [
      "1/1 [==============================] - 0s 263ms/step - loss: 2.8143e-06 - accuracy: 1.0000\n",
      "Test accuracy: 1.0\n"
     ]
    }
   ],
   "source": [
    "# Evaluate the model on the testing set\n",
    "loss, accuracy = model.evaluate(X_test, y_test)\n",
    "print('Test accuracy:', accuracy)"
   ]
  },
  {
   "cell_type": "markdown",
   "id": "65c8084a",
   "metadata": {},
   "source": [
    "Calculate various classification metrics on the testing set predictions.\n",
    "\n",
    "First, it is using the trained model to predict the target variable on the testing set using model.predict(X_test). The predicted probabilities for each instance in the testing set are returned.\n",
    "\n",
    "Finally, it prints a classification report using sklearn.metrics.classification_report(), which displays various metrics such as precision, recall, F1-score, and support for each class. The zero_division parameter is set to 1, which ensures that the classification report does not raise an exception when one of the classes has zero support."
   ]
  },
  {
   "cell_type": "code",
   "execution_count": 51,
   "id": "d2f9ed29",
   "metadata": {},
   "outputs": [
    {
     "name": "stdout",
     "output_type": "stream",
     "text": [
      "1/1 [==============================] - 0s 236ms/step\n",
      "              precision    recall  f1-score   support\n",
      "\n",
      "           0       1.00      1.00      1.00        20\n",
      "\n",
      "    accuracy                           1.00        20\n",
      "   macro avg       1.00      1.00      1.00        20\n",
      "weighted avg       1.00      1.00      1.00        20\n",
      "\n"
     ]
    }
   ],
   "source": [
    "from sklearn.metrics import classification_report\n",
    "\n",
    "# Get the model predictions on the testing set\n",
    "y_pred = model.predict(X_test)\n",
    "\n",
    "# Convert predicted probabilities to class labels\n",
    "y_pred_labels = np.round(y_pred)\n",
    "\n",
    "# Print classification report\n",
    "print(classification_report(y_test, y_pred_labels, zero_division=1))"
   ]
  },
  {
   "cell_type": "code",
   "execution_count": null,
   "id": "f4d10aa6",
   "metadata": {},
   "outputs": [],
   "source": []
  }
 ],
 "metadata": {
  "kernelspec": {
   "display_name": "Python 3 (ipykernel)",
   "language": "python",
   "name": "python3"
  },
  "language_info": {
   "codemirror_mode": {
    "name": "ipython",
    "version": 3
   },
   "file_extension": ".py",
   "mimetype": "text/x-python",
   "name": "python",
   "nbconvert_exporter": "python",
   "pygments_lexer": "ipython3",
   "version": "3.9.12"
  }
 },
 "nbformat": 4,
 "nbformat_minor": 5
}
